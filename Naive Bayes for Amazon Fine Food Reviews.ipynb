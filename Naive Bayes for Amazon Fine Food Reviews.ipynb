{
 "cells": [
  {
   "cell_type": "markdown",
   "metadata": {},
   "source": [
    "# Naive Bayes Classification on Amazon Fine Food Reviews DataSet:"
   ]
  },
  {
   "cell_type": "markdown",
   "metadata": {},
   "source": [
    "# Data Source: https://www.kaggle.com/snap/amazon-fine-food-reviews\n",
    "\n",
    "##### The Amazon Fine Food Reviews dataset consists of reviews of fine foods from Amazon.\n",
    "\n",
    "###### Number of reviews: 568,454\n",
    "###### Number of users: 256,059\n",
    "###### Number of products: 74,258\n",
    "###### Timespan: Oct 1999 - Oct 2012\n",
    "###### Number of Attributes/Columns in data: 10\n",
    "\n",
    "###### Attribute Information:\n",
    "\n",
    "###### Id - Id of the row in the dataset\n",
    "###### ProductId - unique identifier for the product\n",
    "###### UserId - unqiue identifier for the user\n",
    "###### ProfileName - name on the profile\n",
    "###### HelpfulnessNumerator - number of users who found the review helpful\n",
    "###### HelpfulnessDenominator - number of users who indicated whether they found the review helpful or not\n",
    "###### Score - rating between 1 and 5\n",
    "###### Time - timestamp for the review\n",
    "###### Summary - brief summary of the review\n",
    "###### Text - text of the review\n",
    "###### Objective:\n",
    "######  To apply the Naive Bayes classifier on the Bow , TF-IDF Vectors and computing the Test Accuracy for each Vectors and finding the top words (both negative and positive predicted using the Log Probabilities)"
   ]
  },
  {
   "cell_type": "code",
   "execution_count": 12,
   "metadata": {},
   "outputs": [],
   "source": [
    "import numpy as np\n",
    "import pandas as pd\n",
    "import matplotlib.pyplot as plt\n",
    "import seaborn as sns\n",
    "\n",
    "\n",
    "%matplotlib inline\n",
    "\n",
    "import sqlite3\n",
    "import string\n",
    "import nltk\n",
    "\n",
    "from sklearn.decomposition import TruncatedSVD\n",
    "from sklearn.feature_extraction.text import TfidfTransformer\n",
    "from sklearn.feature_extraction.text import TfidfVectorizer\n",
    "from sklearn.feature_extraction.text import CountVectorizer\n",
    "\n",
    "import re\n",
    "import string\n",
    "from gensim.models import Word2Vec\n",
    "from gensim.models import KeyedVectors\n",
    "import pickle\n",
    "import os\n",
    "from tqdm import tqdm\n",
    "\n",
    "from sklearn.naive_bayes import MultinomialNB\n",
    "from sklearn.cross_validation import cross_val_score\n",
    "from sklearn.metrics import accuracy_score\n",
    "from sklearn.cross_validation import train_test_split\n",
    "from sklearn.metrics import confusion_matrix\n",
    "from sklearn.decomposition import TruncatedSVD\n",
    "from sklearn.preprocessing import StandardScaler\n",
    "from sklearn.model_selection import GridSearchCV\n",
    "\n",
    "import warnings\n",
    "warnings.filterwarnings('ignore')\n",
    "\n",
    "# ============================== data preprocessing ===========================================\n",
    "# Making the connection to the database.sqlite\n",
    "con = sqlite3.connect(\"C:\\\\Users\\\\Ashu\\\\Desktop\\\\AAIC\\\\IPython Notebooks\\\\AMAZON Fine Food Reviews\\\\amazon-fine-food-reviews\\\\database.sqlite\")\n",
    "\n",
    "\n",
    "\n"
   ]
  },
  {
   "cell_type": "code",
   "execution_count": 2,
   "metadata": {},
   "outputs": [
    {
     "name": "stdout",
     "output_type": "stream",
     "text": [
      "(525814, 10)\n",
      "<class 'pandas.core.series.Series'> pos_neg_reviews_df (525814,)\n",
      "type(amazon_featured_reviews): <class 'pandas.core.frame.DataFrame'>\n"
     ]
    },
    {
     "data": {
      "text/html": [
       "<div>\n",
       "<style scoped>\n",
       "    .dataframe tbody tr th:only-of-type {\n",
       "        vertical-align: middle;\n",
       "    }\n",
       "\n",
       "    .dataframe tbody tr th {\n",
       "        vertical-align: top;\n",
       "    }\n",
       "\n",
       "    .dataframe thead th {\n",
       "        text-align: right;\n",
       "    }\n",
       "</style>\n",
       "<table border=\"1\" class=\"dataframe\">\n",
       "  <thead>\n",
       "    <tr style=\"text-align: right;\">\n",
       "      <th></th>\n",
       "      <th>Id</th>\n",
       "      <th>ProductId</th>\n",
       "      <th>UserId</th>\n",
       "      <th>ProfileName</th>\n",
       "      <th>HelpfulnessNumerator</th>\n",
       "      <th>HelpfulnessDenominator</th>\n",
       "      <th>Score</th>\n",
       "      <th>Time</th>\n",
       "      <th>Summary</th>\n",
       "      <th>Text</th>\n",
       "    </tr>\n",
       "  </thead>\n",
       "  <tbody>\n",
       "    <tr>\n",
       "      <th>0</th>\n",
       "      <td>1</td>\n",
       "      <td>B001E4KFG0</td>\n",
       "      <td>A3SGXH7AUHU8GW</td>\n",
       "      <td>delmartian</td>\n",
       "      <td>1</td>\n",
       "      <td>1</td>\n",
       "      <td>positive</td>\n",
       "      <td>1303862400</td>\n",
       "      <td>Good Quality Dog Food</td>\n",
       "      <td>I have bought several of the Vitality canned d...</td>\n",
       "    </tr>\n",
       "    <tr>\n",
       "      <th>1</th>\n",
       "      <td>2</td>\n",
       "      <td>B00813GRG4</td>\n",
       "      <td>A1D87F6ZCVE5NK</td>\n",
       "      <td>dll pa</td>\n",
       "      <td>0</td>\n",
       "      <td>0</td>\n",
       "      <td>negative</td>\n",
       "      <td>1346976000</td>\n",
       "      <td>Not as Advertised</td>\n",
       "      <td>Product arrived labeled as Jumbo Salted Peanut...</td>\n",
       "    </tr>\n",
       "  </tbody>\n",
       "</table>\n",
       "</div>"
      ],
      "text/plain": [
       "   Id   ProductId          UserId ProfileName  HelpfulnessNumerator  \\\n",
       "0   1  B001E4KFG0  A3SGXH7AUHU8GW  delmartian                     1   \n",
       "1   2  B00813GRG4  A1D87F6ZCVE5NK      dll pa                     0   \n",
       "\n",
       "   HelpfulnessDenominator     Score        Time                Summary  \\\n",
       "0                       1  positive  1303862400  Good Quality Dog Food   \n",
       "1                       0  negative  1346976000      Not as Advertised   \n",
       "\n",
       "                                                Text  \n",
       "0  I have bought several of the Vitality canned d...  \n",
       "1  Product arrived labeled as Jumbo Salted Peanut...  "
      ]
     },
     "execution_count": 2,
     "metadata": {},
     "output_type": "execute_result"
    }
   ],
   "source": [
    "# Extracting out the positive and negative features \n",
    "amazon_featured_reviews = pd.read_sql_query(\"\"\"SELECT * FROM REVIEWS WHERE SCORE != 3\"\"\" , con)\n",
    "\n",
    "print(amazon_featured_reviews.shape)\n",
    "\n",
    "\n",
    "\n",
    "\n",
    "# Creating the partition function returning the positive or negative reviews and appending them in the Score column in place \n",
    "# of ratings given:\n",
    "\n",
    "def partition(x):\n",
    "        if x < 3:\n",
    "            return 'negative'\n",
    "        else :\n",
    "            return 'positive'\n",
    "        \n",
    "        \n",
    "pos_neg_reviews_df = amazon_featured_reviews['Score'].map(partition)\n",
    "print(type(pos_neg_reviews_df) , 'pos_neg_reviews_df' , pos_neg_reviews_df.shape)\n",
    "print('type(amazon_featured_reviews):' , type(amazon_featured_reviews))\n",
    "amazon_featured_reviews['Score'] = pos_neg_reviews_df\n",
    "amazon_featured_reviews.shape\n",
    "amazon_featured_reviews.head(2)\n"
   ]
  },
  {
   "cell_type": "code",
   "execution_count": 3,
   "metadata": {},
   "outputs": [
    {
     "data": {
      "text/html": [
       "<div>\n",
       "<style scoped>\n",
       "    .dataframe tbody tr th:only-of-type {\n",
       "        vertical-align: middle;\n",
       "    }\n",
       "\n",
       "    .dataframe tbody tr th {\n",
       "        vertical-align: top;\n",
       "    }\n",
       "\n",
       "    .dataframe thead th {\n",
       "        text-align: right;\n",
       "    }\n",
       "</style>\n",
       "<table border=\"1\" class=\"dataframe\">\n",
       "  <thead>\n",
       "    <tr style=\"text-align: right;\">\n",
       "      <th></th>\n",
       "      <th>Id</th>\n",
       "      <th>ProductId</th>\n",
       "      <th>UserId</th>\n",
       "      <th>ProfileName</th>\n",
       "      <th>HelpfulnessNumerator</th>\n",
       "      <th>HelpfulnessDenominator</th>\n",
       "      <th>Score</th>\n",
       "      <th>Time</th>\n",
       "      <th>Summary</th>\n",
       "      <th>Text</th>\n",
       "    </tr>\n",
       "  </thead>\n",
       "  <tbody>\n",
       "    <tr>\n",
       "      <th>0</th>\n",
       "      <td>4</td>\n",
       "      <td>B000UA0QIQ</td>\n",
       "      <td>A395BORC6FGVXV</td>\n",
       "      <td>Karl</td>\n",
       "      <td>3</td>\n",
       "      <td>3</td>\n",
       "      <td>2</td>\n",
       "      <td>1307923200</td>\n",
       "      <td>Cough Medicine</td>\n",
       "      <td>If you are looking for the secret ingredient i...</td>\n",
       "    </tr>\n",
       "    <tr>\n",
       "      <th>1</th>\n",
       "      <td>11</td>\n",
       "      <td>B0001PB9FE</td>\n",
       "      <td>A3HDKO7OW0QNK4</td>\n",
       "      <td>Canadian Fan</td>\n",
       "      <td>1</td>\n",
       "      <td>1</td>\n",
       "      <td>5</td>\n",
       "      <td>1107820800</td>\n",
       "      <td>The Best Hot Sauce in the World</td>\n",
       "      <td>I don't know if it's the cactus or the tequila...</td>\n",
       "    </tr>\n",
       "    <tr>\n",
       "      <th>2</th>\n",
       "      <td>30</td>\n",
       "      <td>B0001PB9FY</td>\n",
       "      <td>A3HDKO7OW0QNK4</td>\n",
       "      <td>Canadian Fan</td>\n",
       "      <td>1</td>\n",
       "      <td>1</td>\n",
       "      <td>5</td>\n",
       "      <td>1107820800</td>\n",
       "      <td>The Best Hot Sauce in the World</td>\n",
       "      <td>I don't know if it's the cactus or the tequila...</td>\n",
       "    </tr>\n",
       "    <tr>\n",
       "      <th>3</th>\n",
       "      <td>70</td>\n",
       "      <td>B000E7VI7S</td>\n",
       "      <td>AWCBF2ZWIN57F</td>\n",
       "      <td>C. Salcido</td>\n",
       "      <td>0</td>\n",
       "      <td>2</td>\n",
       "      <td>5</td>\n",
       "      <td>1185753600</td>\n",
       "      <td>pretzel haven!</td>\n",
       "      <td>this was sooooo deliscious but too bad i ate e...</td>\n",
       "    </tr>\n",
       "  </tbody>\n",
       "</table>\n",
       "</div>"
      ],
      "text/plain": [
       "   Id   ProductId          UserId   ProfileName  HelpfulnessNumerator  \\\n",
       "0   4  B000UA0QIQ  A395BORC6FGVXV          Karl                     3   \n",
       "1  11  B0001PB9FE  A3HDKO7OW0QNK4  Canadian Fan                     1   \n",
       "2  30  B0001PB9FY  A3HDKO7OW0QNK4  Canadian Fan                     1   \n",
       "3  70  B000E7VI7S   AWCBF2ZWIN57F    C. Salcido                     0   \n",
       "\n",
       "   HelpfulnessDenominator  Score        Time                          Summary  \\\n",
       "0                       3      2  1307923200                   Cough Medicine   \n",
       "1                       1      5  1107820800  The Best Hot Sauce in the World   \n",
       "2                       1      5  1107820800  The Best Hot Sauce in the World   \n",
       "3                       2      5  1185753600                   pretzel haven!   \n",
       "\n",
       "                                                Text  \n",
       "0  If you are looking for the secret ingredient i...  \n",
       "1  I don't know if it's the cactus or the tequila...  \n",
       "2  I don't know if it's the cactus or the tequila...  \n",
       "3  this was sooooo deliscious but too bad i ate e...  "
      ]
     },
     "execution_count": 3,
     "metadata": {},
     "output_type": "execute_result"
    }
   ],
   "source": [
    "# Data deduplication is used to clean the data having redundancy and many unwanted things which msut be removed to further\n",
    "# use the data:\n",
    "\n",
    "duplicate_df = pd.read_sql_query(\"\"\"SELECT * FROM REVIEWS WHERE SCORE !=3 AND Text IN \n",
    "                                    (SELECT Text FROM REVIEWS\n",
    "                                    GROUP BY Text having count(*) > 1)\n",
    "                                    \"\"\" , con)\n",
    "duplicate_df.head(4)\n",
    "\n",
    "#So we can see there are many such duplicated rows having some column values similar to each other"
   ]
  },
  {
   "cell_type": "code",
   "execution_count": 4,
   "metadata": {},
   "outputs": [
    {
     "data": {
      "text/html": [
       "<div>\n",
       "<style scoped>\n",
       "    .dataframe tbody tr th:only-of-type {\n",
       "        vertical-align: middle;\n",
       "    }\n",
       "\n",
       "    .dataframe tbody tr th {\n",
       "        vertical-align: top;\n",
       "    }\n",
       "\n",
       "    .dataframe thead th {\n",
       "        text-align: right;\n",
       "    }\n",
       "</style>\n",
       "<table border=\"1\" class=\"dataframe\">\n",
       "  <thead>\n",
       "    <tr style=\"text-align: right;\">\n",
       "      <th></th>\n",
       "      <th>Id</th>\n",
       "      <th>ProductId</th>\n",
       "      <th>UserId</th>\n",
       "      <th>ProfileName</th>\n",
       "      <th>Summary</th>\n",
       "      <th>Text</th>\n",
       "      <th>COUNT</th>\n",
       "    </tr>\n",
       "  </thead>\n",
       "  <tbody>\n",
       "    <tr>\n",
       "      <th>0</th>\n",
       "      <td>171154</td>\n",
       "      <td>7310172001</td>\n",
       "      <td>AJD41FBJD9010</td>\n",
       "      <td>N. Ferguson \"Two, Daisy, Hannah, and Kitten\"</td>\n",
       "      <td>best dog treat-- great for training---  all do...</td>\n",
       "      <td>Freeze dried liver has a hypnotic effect on do...</td>\n",
       "      <td>2</td>\n",
       "    </tr>\n",
       "    <tr>\n",
       "      <th>1</th>\n",
       "      <td>217385</td>\n",
       "      <td>7310172101</td>\n",
       "      <td>AJD41FBJD9010</td>\n",
       "      <td>N. Ferguson \"Two, Daisy, Hannah, and Kitten\"</td>\n",
       "      <td>best dog treat-- great for training---  all do...</td>\n",
       "      <td>Freeze dried liver has a hypnotic effect on do...</td>\n",
       "      <td>2</td>\n",
       "    </tr>\n",
       "    <tr>\n",
       "      <th>2</th>\n",
       "      <td>369857</td>\n",
       "      <td>B000084DWM</td>\n",
       "      <td>A3TVZM3ZIXG8YW</td>\n",
       "      <td>christopher hayes</td>\n",
       "      <td>Filler food is empty, leaves your cat always n...</td>\n",
       "      <td>This review will make me sound really stupid, ...</td>\n",
       "      <td>10</td>\n",
       "    </tr>\n",
       "    <tr>\n",
       "      <th>3</th>\n",
       "      <td>369801</td>\n",
       "      <td>B000084DWM</td>\n",
       "      <td>A36JDIN9RAAIEC</td>\n",
       "      <td>Jon</td>\n",
       "      <td>Great product, but trust your vet not the hype</td>\n",
       "      <td>I have two cats, one 6 and one 2 years old. Bo...</td>\n",
       "      <td>2</td>\n",
       "    </tr>\n",
       "    <tr>\n",
       "      <th>4</th>\n",
       "      <td>410265</td>\n",
       "      <td>B000084EZ4</td>\n",
       "      <td>A2FGXWWR8ZU59C</td>\n",
       "      <td>Thomas Lawrence</td>\n",
       "      <td>Cats love the food, but no pull-tab top, and d...</td>\n",
       "      <td>I appreciate being able to buy this larger, mo...</td>\n",
       "      <td>2</td>\n",
       "    </tr>\n",
       "    <tr>\n",
       "      <th>5</th>\n",
       "      <td>410304</td>\n",
       "      <td>B000084EZ4</td>\n",
       "      <td>A29JUMRL1US6YP</td>\n",
       "      <td>HTBK</td>\n",
       "      <td>Fantastic Food for Good Cat Health</td>\n",
       "      <td>The pet food industry can be one of the most i...</td>\n",
       "      <td>4</td>\n",
       "    </tr>\n",
       "  </tbody>\n",
       "</table>\n",
       "</div>"
      ],
      "text/plain": [
       "       Id   ProductId          UserId  \\\n",
       "0  171154  7310172001   AJD41FBJD9010   \n",
       "1  217385  7310172101   AJD41FBJD9010   \n",
       "2  369857  B000084DWM  A3TVZM3ZIXG8YW   \n",
       "3  369801  B000084DWM  A36JDIN9RAAIEC   \n",
       "4  410265  B000084EZ4  A2FGXWWR8ZU59C   \n",
       "5  410304  B000084EZ4  A29JUMRL1US6YP   \n",
       "\n",
       "                                    ProfileName  \\\n",
       "0  N. Ferguson \"Two, Daisy, Hannah, and Kitten\"   \n",
       "1  N. Ferguson \"Two, Daisy, Hannah, and Kitten\"   \n",
       "2                             christopher hayes   \n",
       "3                                           Jon   \n",
       "4                               Thomas Lawrence   \n",
       "5                                          HTBK   \n",
       "\n",
       "                                             Summary  \\\n",
       "0  best dog treat-- great for training---  all do...   \n",
       "1  best dog treat-- great for training---  all do...   \n",
       "2  Filler food is empty, leaves your cat always n...   \n",
       "3     Great product, but trust your vet not the hype   \n",
       "4  Cats love the food, but no pull-tab top, and d...   \n",
       "5                 Fantastic Food for Good Cat Health   \n",
       "\n",
       "                                                Text  COUNT  \n",
       "0  Freeze dried liver has a hypnotic effect on do...      2  \n",
       "1  Freeze dried liver has a hypnotic effect on do...      2  \n",
       "2  This review will make me sound really stupid, ...     10  \n",
       "3  I have two cats, one 6 and one 2 years old. Bo...      2  \n",
       "4  I appreciate being able to buy this larger, mo...      2  \n",
       "5  The pet food industry can be one of the most i...      4  "
      ]
     },
     "execution_count": 4,
     "metadata": {},
     "output_type": "execute_result"
    }
   ],
   "source": [
    "#Doing some other check using the below query to see whether such reduncdancy is over small scale or a large scale of rows:\n",
    "# From count(*) values we can see that we have so much of redundant data, so it has to be cleaned.\n",
    "dup_data = pd.read_sql_query(\"\"\"\n",
    "select ID,ProductID,USERID , PROFILENAME , Summary ,text ,count(*) AS COUNT\n",
    "FROM REVIEWS\n",
    "GROUP BY PRODUCTID,SUMMARY,TEXT  \n",
    "having count(*) > 1\"\"\",con)\n",
    "dup_data.head(6)"
   ]
  },
  {
   "cell_type": "code",
   "execution_count": 5,
   "metadata": {},
   "outputs": [
    {
     "data": {
      "text/html": [
       "<div>\n",
       "<style scoped>\n",
       "    .dataframe tbody tr th:only-of-type {\n",
       "        vertical-align: middle;\n",
       "    }\n",
       "\n",
       "    .dataframe tbody tr th {\n",
       "        vertical-align: top;\n",
       "    }\n",
       "\n",
       "    .dataframe thead th {\n",
       "        text-align: right;\n",
       "    }\n",
       "</style>\n",
       "<table border=\"1\" class=\"dataframe\">\n",
       "  <thead>\n",
       "    <tr style=\"text-align: right;\">\n",
       "      <th></th>\n",
       "      <th>Id</th>\n",
       "      <th>ProductId</th>\n",
       "      <th>UserId</th>\n",
       "      <th>ProfileName</th>\n",
       "      <th>HelpfulnessNumerator</th>\n",
       "      <th>HelpfulnessDenominator</th>\n",
       "      <th>Score</th>\n",
       "      <th>Time</th>\n",
       "      <th>Summary</th>\n",
       "      <th>Text</th>\n",
       "    </tr>\n",
       "  </thead>\n",
       "  <tbody>\n",
       "    <tr>\n",
       "      <th>0</th>\n",
       "      <td>171152</td>\n",
       "      <td>7310172001</td>\n",
       "      <td>AJD41FBJD9010</td>\n",
       "      <td>N. Ferguson \"Two, Daisy, Hannah, and Kitten\"</td>\n",
       "      <td>0</td>\n",
       "      <td>0</td>\n",
       "      <td>5</td>\n",
       "      <td>1233360000</td>\n",
       "      <td>dogs LOVE it--  best treat for rewards and tra...</td>\n",
       "      <td>Freeze dried liver has a hypnotic effect on do...</td>\n",
       "    </tr>\n",
       "    <tr>\n",
       "      <th>1</th>\n",
       "      <td>171153</td>\n",
       "      <td>7310172001</td>\n",
       "      <td>AJD41FBJD9010</td>\n",
       "      <td>N. Ferguson \"Two, Daisy, Hannah, and Kitten\"</td>\n",
       "      <td>0</td>\n",
       "      <td>0</td>\n",
       "      <td>5</td>\n",
       "      <td>1233360000</td>\n",
       "      <td>best dog treat-- great for training---  all do...</td>\n",
       "      <td>Freeze dried liver has a hypnotic effect on do...</td>\n",
       "    </tr>\n",
       "    <tr>\n",
       "      <th>2</th>\n",
       "      <td>171154</td>\n",
       "      <td>7310172001</td>\n",
       "      <td>AJD41FBJD9010</td>\n",
       "      <td>N. Ferguson \"Two, Daisy, Hannah, and Kitten\"</td>\n",
       "      <td>0</td>\n",
       "      <td>0</td>\n",
       "      <td>5</td>\n",
       "      <td>1233360000</td>\n",
       "      <td>best dog treat-- great for training---  all do...</td>\n",
       "      <td>Freeze dried liver has a hypnotic effect on do...</td>\n",
       "    </tr>\n",
       "    <tr>\n",
       "      <th>3</th>\n",
       "      <td>171189</td>\n",
       "      <td>7310172001</td>\n",
       "      <td>AJD41FBJD9010</td>\n",
       "      <td>N. Ferguson \"Two, Daisy, Hannah, and Kitten\"</td>\n",
       "      <td>39</td>\n",
       "      <td>51</td>\n",
       "      <td>5</td>\n",
       "      <td>1233360000</td>\n",
       "      <td>NO waste at all ----  great for training  ----...</td>\n",
       "      <td>Freeze dried liver has a hypnotic effect on do...</td>\n",
       "    </tr>\n",
       "    <tr>\n",
       "      <th>4</th>\n",
       "      <td>171223</td>\n",
       "      <td>7310172001</td>\n",
       "      <td>AJD41FBJD9010</td>\n",
       "      <td>N. Ferguson \"Two, Daisy, Hannah, and Kitten\"</td>\n",
       "      <td>1</td>\n",
       "      <td>1</td>\n",
       "      <td>5</td>\n",
       "      <td>1233360000</td>\n",
       "      <td>best dog treat-- great for training---  all do...</td>\n",
       "      <td>Freeze dried liver has a hypnotic effect on do...</td>\n",
       "    </tr>\n",
       "    <tr>\n",
       "      <th>5</th>\n",
       "      <td>171228</td>\n",
       "      <td>7310172001</td>\n",
       "      <td>AJD41FBJD9010</td>\n",
       "      <td>N. Ferguson \"Two, Daisy, Hannah, and Kitten\"</td>\n",
       "      <td>5</td>\n",
       "      <td>7</td>\n",
       "      <td>5</td>\n",
       "      <td>1233360000</td>\n",
       "      <td>NO waste at all--- all dogs love liver treats-...</td>\n",
       "      <td>Freeze dried liver has a hypnotic effect on do...</td>\n",
       "    </tr>\n",
       "  </tbody>\n",
       "</table>\n",
       "</div>"
      ],
      "text/plain": [
       "       Id   ProductId         UserId  \\\n",
       "0  171152  7310172001  AJD41FBJD9010   \n",
       "1  171153  7310172001  AJD41FBJD9010   \n",
       "2  171154  7310172001  AJD41FBJD9010   \n",
       "3  171189  7310172001  AJD41FBJD9010   \n",
       "4  171223  7310172001  AJD41FBJD9010   \n",
       "5  171228  7310172001  AJD41FBJD9010   \n",
       "\n",
       "                                    ProfileName  HelpfulnessNumerator  \\\n",
       "0  N. Ferguson \"Two, Daisy, Hannah, and Kitten\"                     0   \n",
       "1  N. Ferguson \"Two, Daisy, Hannah, and Kitten\"                     0   \n",
       "2  N. Ferguson \"Two, Daisy, Hannah, and Kitten\"                     0   \n",
       "3  N. Ferguson \"Two, Daisy, Hannah, and Kitten\"                    39   \n",
       "4  N. Ferguson \"Two, Daisy, Hannah, and Kitten\"                     1   \n",
       "5  N. Ferguson \"Two, Daisy, Hannah, and Kitten\"                     5   \n",
       "\n",
       "   HelpfulnessDenominator  Score        Time  \\\n",
       "0                       0      5  1233360000   \n",
       "1                       0      5  1233360000   \n",
       "2                       0      5  1233360000   \n",
       "3                      51      5  1233360000   \n",
       "4                       1      5  1233360000   \n",
       "5                       7      5  1233360000   \n",
       "\n",
       "                                             Summary  \\\n",
       "0  dogs LOVE it--  best treat for rewards and tra...   \n",
       "1  best dog treat-- great for training---  all do...   \n",
       "2  best dog treat-- great for training---  all do...   \n",
       "3  NO waste at all ----  great for training  ----...   \n",
       "4  best dog treat-- great for training---  all do...   \n",
       "5  NO waste at all--- all dogs love liver treats-...   \n",
       "\n",
       "                                                Text  \n",
       "0  Freeze dried liver has a hypnotic effect on do...  \n",
       "1  Freeze dried liver has a hypnotic effect on do...  \n",
       "2  Freeze dried liver has a hypnotic effect on do...  \n",
       "3  Freeze dried liver has a hypnotic effect on do...  \n",
       "4  Freeze dried liver has a hypnotic effect on do...  \n",
       "5  Freeze dried liver has a hypnotic effect on do...  "
      ]
     },
     "execution_count": 5,
     "metadata": {},
     "output_type": "execute_result"
    }
   ],
   "source": [
    "# Let's see another case:\n",
    "\n",
    "dup_data = pd.read_sql_query(\"\"\"SELECT * FROM REVIEWS\n",
    "                                    WHERE SCORE != 3 AND UserId = \"AJD41FBJD9010\" AND ProductID=\"7310172001\"\n",
    "                                    Order by ProductID\"\"\" , con)\n",
    "dup_data\n"
   ]
  },
  {
   "cell_type": "markdown",
   "metadata": {},
   "source": [
    "# Observation:\n",
    "\n",
    "####    In above Analysis what we found is :\n",
    "###### There are product's having the same productID's with same {'TEXT'} , {'Timestamp'} , {'UserID'}\n",
    "###### There are products having the different productID's with same {'TEXT'} , {'Timestamp'} , {\"helpfullnessNumerator\"} , {\"HelpfullnessNumerator\"} \n",
    "##### We termed such type of the data in our data set as Redundant Data , so we perform various cleaning methods to remove them from\n",
    "###### the Data Set."
   ]
  },
  {
   "cell_type": "code",
   "execution_count": 6,
   "metadata": {},
   "outputs": [
    {
     "name": "stdout",
     "output_type": "stream",
     "text": [
      "   Boolean\n",
      "0    False\n",
      "1    False\n",
      "2    False\n",
      "3    False\n",
      "4    False\n",
      "False    365333\n",
      "True     160481\n",
      "Name: Boolean, dtype: int64\n",
      "total no of duplicates here in the amazon_featured_reviews are: Boolean    160481\n",
      "dtype: int64\n",
      "\n",
      " DataFrame final shape before removing helpfullness data : (364173, 10)\n",
      "final (364171, 10)\n"
     ]
    }
   ],
   "source": [
    "#Removing the Duplicate data points:\n",
    "\n",
    "duplicated_data = amazon_featured_reviews.duplicated(subset={'UserId','ProfileName','Time','Summary','Text'} , keep='first')\n",
    "duplicated_data = pd.DataFrame(duplicated_data , columns=['Boolean'])\n",
    "print(duplicated_data.head(5))\n",
    "\n",
    "#True values in the Boolean Series represents the duplicate data:\n",
    "print(duplicated_data['Boolean'].value_counts(dropna=False)) #gives me the total no of the duplicates\n",
    "\n",
    "#The total no of duplicates here in the amazon_featured_reviews are:\n",
    "print(\"total no of duplicates here in the amazon_featured_reviews are:\",duplicated_data[duplicated_data['Boolean']==True].count())\n",
    "\n",
    "#dropping the duplicates:\n",
    "final = amazon_featured_reviews.sort_values(by='ProductId',kind='quicksort',ascending=True,inplace=False)\n",
    "final = final.drop_duplicates(subset={'UserId','ProfileName','Time','Text'} , keep='first', inplace=False)\n",
    "print('\\n','DataFrame final shape before removing helpfullness data :', final.shape)\n",
    "\n",
    "#Also removing the instances where HelpfulnessNumerator >= HelpfulnessDenominator:\n",
    "final = final[final['HelpfulnessNumerator'] <= final['HelpfulnessDenominator']]\n",
    "print('final', final.shape)\n"
   ]
  },
  {
   "cell_type": "code",
   "execution_count": 7,
   "metadata": {},
   "outputs": [
    {
     "name": "stdout",
     "output_type": "stream",
     "text": [
      "Index(['Id', 'ProductId', 'UserId', 'ProfileName', 'HelpfulnessNumerator',\n",
      "       'HelpfulnessDenominator', 'Score', 'Time', 'Summary', 'Text'],\n",
      "      dtype='object')\n"
     ]
    }
   ],
   "source": [
    "#Finding the books data in the amazon_featured_reviews using the regex:\n",
    "import re\n",
    "print(final.columns)\n",
    "def analyzing_summary_book(filtered_data , regex):\n",
    "    \n",
    "    mask_summary = filtered_data.Summary.str.lower().str.contains(regex) \n",
    "    mask_text =    filtered_data.Text.str.lower().str.contains(regex)\n",
    "    print(len(filtered_data[mask_summary].index) , len(filtered_data[mask_text].index))\n",
    "    print('initial shape of the filtered_data' , filtered_data.shape)\n",
    "    filtered_data.drop(filtered_data[mask_summary].index , inplace=True , axis=0)\n",
    "    filtered_data.drop(filtered_data[mask_text].index , axis=0 , inplace=True)\n"
   ]
  },
  {
   "cell_type": "code",
   "execution_count": 8,
   "metadata": {},
   "outputs": [
    {
     "name": "stdout",
     "output_type": "stream",
     "text": [
      "final shape before removing books reviews: (364171, 10)\n",
      "2842 36649\n",
      "initial shape of the filtered_data (364171, 10)\n",
      "final shape after removing the book reviews: (326808, 10)\n"
     ]
    }
   ],
   "source": [
    "#Removing the Books reviews we get below final dataframe:\n",
    "#On observation of some of the reviews we got certain keywords related to books,reading ,poems , story,learn , study , music \n",
    "#So we removed these words as much as possible:\n",
    "\n",
    "\n",
    "print('final shape before removing books reviews:' , final.shape)\n",
    "analyzing_summary_book(final , re.compile(r'reading|books|book|read|study|learn|poems|music|story'))\n",
    "\n",
    "print('final shape after removing the book reviews:' , final.shape)"
   ]
  },
  {
   "cell_type": "code",
   "execution_count": 9,
   "metadata": {},
   "outputs": [
    {
     "data": {
      "text/plain": [
       "positive    276668\n",
       "negative     50140\n",
       "Name: Score, dtype: int64"
      ]
     },
     "execution_count": 9,
     "metadata": {},
     "output_type": "execute_result"
    }
   ],
   "source": [
    "#Computing the proportion of positive and negative class labels in the DataFrame:\n",
    "final['Score'].value_counts()"
   ]
  },
  {
   "cell_type": "code",
   "execution_count": 10,
   "metadata": {},
   "outputs": [
    {
     "name": "stdout",
     "output_type": "stream",
     "text": [
      "{'again', 'aren', 'with', 'too', 'under', 'mightn', 'until', 'between', 'up', 'because', \"didn't\", 'am', 'that', 'where', 'both', 'isn', 'an', 'had', 'these', \"couldn't\", 'him', 'a', 'doing', 'such', 'now', 'hadn', 'herself', \"hasn't\", 's', 'she', 'above', 'were', 'from', 'very', 'than', \"you'd\", \"that'll\", 'whom', 'if', 'over', \"isn't\", \"shouldn't\", 'his', 'while', 'here', \"mightn't\", 'no', 'd', 'those', \"mustn't\", 'own', \"doesn't\", \"she's\", 'only', 'do', 'her', \"hadn't\", \"should've\", 'it', 'our', 'few', 'my', 'down', 'll', 'the', 'weren', 'all', \"you've\", 'other', 't', 'them', 'o', 'hasn', 'about', 'once', 'how', 'mustn', 'themselves', 'ourselves', 'of', \"weren't\", 'more', 'in', 'yours', 'yourself', 'me', 'don', 'ours', 'does', 'yourselves', \"don't\", 'most', \"you'll\", 'be', 'to', 'your', 'himself', 'for', 'each', 'myself', 'we', 'at', 'not', 'against', 'will', 'haven', 'did', 'are', 'after', 'being', 'needn', 'just', 'off', 'shouldn', 'this', \"shan't\", 'why', 'what', 'itself', 'is', 'doesn', 'wasn', 'having', 'below', 'or', 'nor', 'into', 'have', 'they', 'same', 'wouldn', 'who', 'any', 'and', 'on', \"aren't\", 'you', 'some', 'by', 'so', 'out', 'y', \"you're\", 'i', 'has', 'should', 'been', 'through', 'shan', 'ain', 'm', 'there', 'before', 'didn', 'when', 'hers', 've', 'then', 'its', 'was', 'which', 'further', 're', \"needn't\", 'during', \"wasn't\", 'he', 'can', \"won't\", 'won', 'theirs', \"wouldn't\", 'couldn', \"haven't\", 'but', 'as', \"it's\", 'their', 'ma'}\n",
      "\n",
      " length of stopwords set 179\n",
      "******************************\n"
     ]
    }
   ],
   "source": [
    "import nltk\n",
    "from nltk.stem import SnowballStemmer\n",
    "from nltk.corpus import stopwords\n",
    "from nltk.stem.wordnet import WordNetLemmatizer\n",
    "from nltk.stem import PorterStemmer\n",
    "\n",
    "stop = set(stopwords.words('english'))\n",
    "print(stop)\n",
    "print('\\n' , 'length of stopwords set' , len(stop))\n",
    "\n",
    "print(\"*\" * 30)\n",
    "\n",
    "sno = SnowballStemmer('english')"
   ]
  },
  {
   "cell_type": "markdown",
   "metadata": {},
   "source": [
    "# Observation:\n",
    "#### We found many redundancy in the data set and some of the Books data which does not make any sense here.\n",
    "##### We dropped the almost 160K records in data de duplication step."
   ]
  },
  {
   "cell_type": "markdown",
   "metadata": {},
   "source": [
    "# Text Preprocessing : \n",
    "### Removing Removing html tags\n",
    "### Removing Punctuation charcaters\n",
    "### Alphanumeric numbers \n",
    "### Length of words must be > 2  \n",
    "### Uppercase to Lowercase\n",
    "### Removing the stop words\n",
    "### Using the Snowball Stemmer.  "
   ]
  },
  {
   "cell_type": "code",
   "execution_count": 11,
   "metadata": {},
   "outputs": [],
   "source": [
    "# Functions to clean the html tags and punctuation marks using Regular Expression.\n",
    "\n",
    "def clean_htmlTags(sentence):\n",
    "    pattern = re.compile('<.*?>')\n",
    "    cleaned_text = re.sub(pattern , '' , sentence)\n",
    "    return cleaned_text\n",
    "\n",
    "def clean_punc(sentence):\n",
    "    cleaned = re.sub(r'[!|#|,|?|\\'|\"]' , r' ' , sentence)\n",
    "    cleaned = re.sub(r'[.|,|)|(|\\|/]' ,r' ' , cleaned)\n",
    "    return cleaned\n"
   ]
  },
  {
   "cell_type": "code",
   "execution_count": 13,
   "metadata": {},
   "outputs": [],
   "source": [
    "#The below code will remove all the html tags , punctuation marks , uppercase to lowercase conversion only if length of the words\n",
    "# are greater than 2 and are alphanumeric . Further we perform the Stemming of the each word in the each document.\n",
    "\n",
    "all_positive_words = []\n",
    "all_negative_words = []\n",
    "i = 0\n",
    "str_temp = ' '\n",
    "final_string = []\n",
    "for sent in final['Text'].values:\n",
    "    filtered_sentence=[]\n",
    "    sent = clean_htmlTags(sent)\n",
    "    for w in sent.split():\n",
    "        for clean_word in clean_punc(w).split():\n",
    "            if((clean_word.isalpha()) and (len(clean_word) > 2)):\n",
    "                if(clean_word.lower() not in stop):\n",
    "                    s = (sno.stem(clean_word.lower())).encode('utf-8')\n",
    "                    filtered_sentence.append(s)\n",
    "                    if((final['Score'].values)[i] == 'positive'):\n",
    "                        all_positive_words.append(s)\n",
    "                    if((final['Score'].values)[i] == 'negative'):\n",
    "                        all_negative_words.append(s)\n",
    "                else:\n",
    "                    continue\n",
    "            else:\n",
    "                continue\n",
    "\n",
    "    str_temp = b\" \".join(filtered_sentence)\n",
    "    final_string.append(str_temp)\n",
    "    i+=1"
   ]
  },
  {
   "cell_type": "code",
   "execution_count": 18,
   "metadata": {},
   "outputs": [
    {
     "data": {
      "text/plain": [
       "(326808, 11)"
      ]
     },
     "execution_count": 18,
     "metadata": {},
     "output_type": "execute_result"
    }
   ],
   "source": [
    "#Now I have a final_string of list of each review and append it to the new columns of the final data frame:\n",
    "\n",
    "final['CleanedText'] = final_string\n",
    "final['CleanedText'] = final['CleanedText'].str.decode('utf-8')\n",
    "final.shape\n"
   ]
  },
  {
   "cell_type": "code",
   "execution_count": 19,
   "metadata": {},
   "outputs": [],
   "source": [
    "#Making backup of th pre processed data for the future use:\n",
    "#final_backup = final"
   ]
  },
  {
   "cell_type": "code",
   "execution_count": 155,
   "metadata": {},
   "outputs": [
    {
     "data": {
      "text/plain": [
       "(326808, 11)"
      ]
     },
     "execution_count": 155,
     "metadata": {},
     "output_type": "execute_result"
    }
   ],
   "source": [
    "\n",
    "final_backup.shape #to use the dataframe in future if required"
   ]
  },
  {
   "cell_type": "code",
   "execution_count": 482,
   "metadata": {},
   "outputs": [
    {
     "name": "stdout",
     "output_type": "stream",
     "text": [
      "(250000, 11)\n",
      "positive    212553\n",
      "negative     37447\n",
      "Name: Score, dtype: int64\n"
     ]
    }
   ],
   "source": [
    "#Now lets take roughly same proportion of  each of positive and negative review from the data set for faster processing \n",
    "#the further data:\n",
    "#We can process our next tasks with whole amount of the data but we are bounded with time and memory spaces so we have used\n",
    "\n",
    "\n",
    "# To sample 250K points :\n",
    "\n",
    "final_clean = final.iloc[:250000,:]\n",
    "print(final_clean.shape)\n",
    "print(final_clean['Score'].value_counts())\n"
   ]
  },
  {
   "cell_type": "code",
   "execution_count": 483,
   "metadata": {},
   "outputs": [
    {
     "data": {
      "text/plain": [
       "(250000, 11)"
      ]
     },
     "execution_count": 483,
     "metadata": {},
     "output_type": "execute_result"
    }
   ],
   "source": [
    "#Sort the final data frame by timestamp values:\n",
    "final_clean['Time'] = pd.to_datetime(final['Time'],unit='s')\n",
    "final_clean = final_clean.sort_values(by='Time')\n",
    "final_clean.shape"
   ]
  },
  {
   "cell_type": "markdown",
   "metadata": {},
   "source": [
    "#### BAG OF WORDS:\n"
   ]
  },
  {
   "cell_type": "code",
   "execution_count": 484,
   "metadata": {},
   "outputs": [],
   "source": [
    "#Now we will compute Naive Bayes\n",
    "#According to the assignment requirement we have to use cross validation techinque to find the optimal value of alpha.\n",
    "\n",
    "\n",
    "def Naive_Bayes_GridSearchCV(X_train , y_train):\n",
    "    \n",
    "    #creating the odd list of nearest neighbors values:\n",
    "    alpha_vals = list(np.arange(10e-6 , 10e-2 , 0.005))\n",
    "    \n",
    "    cv_scores=[]\n",
    "    \n",
    "    # create a parameter grid: map the parameter names to the values that should be searched\n",
    "    param_grid = dict(alpha=alpha_vals)\n",
    "    print(param_grid)\n",
    "    \n",
    "    # instantiate the grid\n",
    "    naive = MultinomialNB()\n",
    "    \n",
    "    grid = GridSearchCV(naive, param_grid, cv=8, scoring='accuracy', return_train_score=False)\n",
    "    \n",
    "    # fit the grid with data\n",
    "    grid.fit(X_train, y_train)\n",
    "    \n",
    "    # array of mean scores \n",
    "    cv_scores = [result.mean_validation_score for result in grid.grid_scores_]\n",
    "    #print(cv_scores)\n",
    "    \n",
    "    \n",
    "    # The below code will give the tuned parameter and the best mean accuracy among K-fold CV:\n",
    "    optimal_alpha = grid.best_params_['alpha']\n",
    "    \n",
    "    Naive_Bayes_plot_CV_error(cv_scores , alpha_vals)\n",
    "    \n",
    "    print('*'*80)\n",
    "    # examine the best model\n",
    "    print('Best Score among all the alpha values is:' , grid.best_score_)\n",
    "    print('Grid_best_params:' , grid.best_params_)\n",
    "    print('Grid_best_estimator:' , grid.best_estimator_)\n",
    "    \n",
    "    return optimal_alpha\n",
    "    \n",
    "               \n",
    "    \n",
    "        \n",
    "    \n",
    "        "
   ]
  },
  {
   "cell_type": "code",
   "execution_count": 485,
   "metadata": {},
   "outputs": [],
   "source": [
    "# Below function plot the Cross validation error versus the K values taken by us and we graphically compute our best K but\n",
    "# we can have the idea of the rough value of K from the plot.\n",
    "\n",
    "def Naive_Bayes_plot_CV_error(cv_scores , neighbors):\n",
    "    \n",
    "    # Computing the CV_error and plotting them against the K values in neighbors list:\n",
    "    \n",
    "    MSE = [1-x for x in cv_scores]\n",
    "        \n",
    "    # Plotting the misclassification error and the corresponding K-vaule:\n",
    "    # We will consider that K value which has low error\n",
    "    plt.figure(figsize=(8,8))\n",
    "    plt.plot(neighbors , MSE , linestyle='dashed', marker='o', markerfacecolor='red', markersize=10)\n",
    "    \n",
    "    for xy in zip(neighbors , np.round(MSE , 3)):\n",
    "        plt.annotate('(%s,%s)' % xy , xy=xy ,textcoords='data')\n",
    "    plt.title('CV_error Vs Alpha value')\n",
    "    plt.xlabel('Alpha values')\n",
    "    plt.ylabel('CV_error error')\n",
    "    plt.show()"
   ]
  },
  {
   "cell_type": "code",
   "execution_count": 486,
   "metadata": {},
   "outputs": [],
   "source": [
    "# ============================== KNN with k = optimal_k_value ===============================================\n",
    "# instantiate learning model k = optimal_k_value\n",
    "#Test the optimal value of K to predict the new query point from the X_test:\n",
    "\n",
    "\n",
    "def Naive_Bayes_optimal_confusion_matrix_plot(X_train , y_train , X_test , optimal_alpha , Vectorizer_type):\n",
    "\n",
    "  naive_optimal = MultinomialNB(alpha=optimal_alpha)\n",
    "\n",
    "  # fitting the model\n",
    "  naive_optimal.fit(X_train, y_train)\n",
    "\n",
    "  # predict the response\n",
    "  \n",
    "  pred_test = naive_optimal.predict(X_test)\n",
    "\n",
    "  # evaluate accuracy\n",
    "  \n",
    "  acc_test = accuracy_score(y_test, pred_test)\n",
    "\n",
    "  \n",
    "  print('\\nThe accuracy score of the Naive Classifier on Test Data for alpha = %f is %f' % (optimal_alpha, acc_test))\n",
    "  \n",
    "  print('*'*100)\n",
    "\n",
    "  #Now Lets represent the predicted and actual values of class labels by our model:\n",
    "  #Since our data is imbalanced data set we will use the confusion_matrix to check the accuracy of our model:\n",
    "\n",
    "  cm = confusion_matrix(y_test , pred_test)\n",
    "  print(\"Confusion Matrix for the \" , Vectorizer_type , ':\\n' , cm)\n",
    "\n",
    "  print('*'*100)\n",
    "  # plotting the confusion matrix to describe the performance of our classifier.\n",
    "  print(\"Plotting the Confusion Matrix:\")\n",
    "  class_label = [\"negative\", \"positive\"]\n",
    "  df_cm = pd.DataFrame(cm, index = class_label, columns = class_label)\n",
    "  sns.heatmap(df_cm, annot = True, fmt = \"d\")\n",
    "  plt.title(\"Confusion Matrix\")\n",
    "  plt.xlabel(\"Predicted Label\")\n",
    "  plt.ylabel(\"True Label\")\n",
    "  plt.show()\n",
    "    \n",
    "  print('*'*100)\n",
    "  \n",
    "  # To show the main classification report:\n",
    "  from sklearn.metrics import classification_report\n",
    "  print ('\\n The Clasification report for','MultinomialNB',' algorithm with alpha =',optimal_alpha,' is \\n ' , classification_report(y_test,pred_test))"
   ]
  },
  {
   "cell_type": "code",
   "execution_count": 487,
   "metadata": {},
   "outputs": [],
   "source": [
    "# This method will take log probabilites of the each word and frame them in the dataframe for each class in the dataset.\n",
    "\n",
    "def top_10_features(optimal_alpha , count_vect , X_train , Vectorizer):\n",
    "    NB_optimal = MultinomialNB()\n",
    "    NB_optimal.fit(X_train , y_train)\n",
    "    features = count_vect.get_feature_names()\n",
    "    df = pd.DataFrame(NB_optimal.feature_log_prob_,columns=features)\n",
    "    df_new = df.T\n",
    "    print('Feature Importance for the ' , Vectorizer)\n",
    "    \n",
    "    # Computing the negative and positive features log_porbabilities and taking only first 10 high probabilites:\n",
    "    neg_features = df_new[0].sort_values(ascending = False)[0:10] \n",
    "    pos_features = df_new[1].sort_values(ascending = False)[0:10] \n",
    "    return pos_features , neg_features"
   ]
  },
  {
   "cell_type": "code",
   "execution_count": 488,
   "metadata": {},
   "outputs": [
    {
     "name": "stdout",
     "output_type": "stream",
     "text": [
      "(250000,) (250000,)\n"
     ]
    }
   ],
   "source": [
    "# Creating the training data :\n",
    "X = final_clean['CleanedText']\n",
    "y = final_clean['Score']\n",
    "print(X.shape , y.shape)\n"
   ]
  },
  {
   "cell_type": "code",
   "execution_count": 489,
   "metadata": {
    "scrolled": false
   },
   "outputs": [
    {
     "name": "stdout",
     "output_type": "stream",
     "text": [
      "(175000,) (75000,) (175000,) (75000,)\n"
     ]
    }
   ],
   "source": [
    "#Now we will split our train and test data and convert them to the Bag of words vector:\n",
    "X_train, X_test , y_train , y_test = train_test_split(X , y , test_size=0.3 , random_state=40)\n",
    "print(X_train.shape , X_test.shape , y_train.shape , y_test.shape)\n"
   ]
  },
  {
   "cell_type": "code",
   "execution_count": 490,
   "metadata": {},
   "outputs": [
    {
     "name": "stdout",
     "output_type": "stream",
     "text": [
      "(175000, 13999)\n"
     ]
    },
    {
     "data": {
      "text/plain": [
       "scipy.sparse.csr.csr_matrix"
      ]
     },
     "execution_count": 490,
     "metadata": {},
     "output_type": "execute_result"
    }
   ],
   "source": [
    "# Computing the Train Vectorizer :\n",
    "count_vect = CountVectorizer(ngram_range=(1,1) , min_df=5)\n",
    "X_train_bow = count_vect.fit_transform(X_train)\n",
    "print(X_train_bow.shape)\n",
    "type(X_train_bow)"
   ]
  },
  {
   "cell_type": "code",
   "execution_count": 491,
   "metadata": {},
   "outputs": [
    {
     "name": "stdout",
     "output_type": "stream",
     "text": [
      "(75000, 13999)\n"
     ]
    },
    {
     "data": {
      "text/plain": [
       "scipy.sparse.csr.csr_matrix"
      ]
     },
     "execution_count": 491,
     "metadata": {},
     "output_type": "execute_result"
    }
   ],
   "source": [
    "#Computing the Test Vectorizer:\n",
    "X_test_bow = count_vect.transform(X_test)\n",
    "print(X_test_bow.shape)\n",
    "type(X_test_bow)"
   ]
  },
  {
   "cell_type": "code",
   "execution_count": 499,
   "metadata": {},
   "outputs": [
    {
     "data": {
      "text/html": [
       "<div>\n",
       "<style scoped>\n",
       "    .dataframe tbody tr th:only-of-type {\n",
       "        vertical-align: middle;\n",
       "    }\n",
       "\n",
       "    .dataframe tbody tr th {\n",
       "        vertical-align: top;\n",
       "    }\n",
       "\n",
       "    .dataframe thead th {\n",
       "        text-align: right;\n",
       "    }\n",
       "</style>\n",
       "<table border=\"1\" class=\"dataframe\">\n",
       "  <thead>\n",
       "    <tr style=\"text-align: right;\">\n",
       "      <th></th>\n",
       "      <th>0</th>\n",
       "      <th>1</th>\n",
       "    </tr>\n",
       "  </thead>\n",
       "  <tbody>\n",
       "    <tr>\n",
       "      <th>aaah</th>\n",
       "      <td>-13.748574</td>\n",
       "      <td>-13.313115</td>\n",
       "    </tr>\n",
       "    <tr>\n",
       "      <th>aafco</th>\n",
       "      <td>-12.139137</td>\n",
       "      <td>-12.559343</td>\n",
       "    </tr>\n",
       "    <tr>\n",
       "      <th>aah</th>\n",
       "      <td>-13.748574</td>\n",
       "      <td>-13.600797</td>\n",
       "    </tr>\n",
       "    <tr>\n",
       "      <th>aback</th>\n",
       "      <td>-11.956815</td>\n",
       "      <td>-12.619968</td>\n",
       "    </tr>\n",
       "    <tr>\n",
       "      <th>abandon</th>\n",
       "      <td>-11.445989</td>\n",
       "      <td>-11.781638</td>\n",
       "    </tr>\n",
       "  </tbody>\n",
       "</table>\n",
       "</div>"
      ],
      "text/plain": [
       "                 0          1\n",
       "aaah    -13.748574 -13.313115\n",
       "aafco   -12.139137 -12.559343\n",
       "aah     -13.748574 -13.600797\n",
       "aback   -11.956815 -12.619968\n",
       "abandon -11.445989 -11.781638"
      ]
     },
     "execution_count": 499,
     "metadata": {},
     "output_type": "execute_result"
    }
   ],
   "source": [
    "# Below is the vocabulary dataframe of each word in Bag of words vector with its log probabilities.\n",
    "NB_optimal = MultinomialNB()\n",
    "NB_optimal.fit(X_train_bow , y_train)\n",
    "features = count_vect.get_feature_names()\n",
    "df = pd.DataFrame(NB_optimal.feature_log_prob_ , columns=features)\n",
    "df_new = df.T\n",
    "df_new.head()\n"
   ]
  },
  {
   "cell_type": "code",
   "execution_count": 502,
   "metadata": {
    "scrolled": false
   },
   "outputs": [
    {
     "name": "stdout",
     "output_type": "stream",
     "text": [
      "{'alpha': [1e-05, 0.00501, 0.01001, 0.015009999999999999, 0.02001, 0.02501, 0.03001, 0.035010000000000006, 0.040010000000000004, 0.04501, 0.050010000000000006, 0.05501, 0.06001, 0.06501, 0.07001, 0.07501, 0.08001, 0.08501, 0.09000999999999999, 0.09501]}\n"
     ]
    },
    {
     "data": {
      "image/png": "[encoded data removed]",
      "text/plain": [
       "<Figure size 576x576 with 1 Axes>"
      ]
     },
     "metadata": {},
     "output_type": "display_data"
    },
    {
     "name": "stdout",
     "output_type": "stream",
     "text": [
      "********************************************************************************\n",
      "Best Score among all the alpha values is: 0.9028171428571429\n",
      "Grid_best_params: {'alpha': 0.07501}\n",
      "Grid_best_estimator: MultinomialNB(alpha=0.07501, class_prior=None, fit_prior=True)\n",
      "Optimal Value for alpha is: 0.07501\n",
      "****************************************************************************************************\n",
      "\n",
      "The accuracy score of the Naive Classifier on Test Data for alpha = 0.075010 is 0.902240\n",
      "****************************************************************************************************\n",
      "Confusion Matrix for the  Bag_of_Words :\n",
      " [[ 7779  3464]\n",
      " [ 3868 59889]]\n",
      "****************************************************************************************************\n",
      "Plotting the Confusion Matrix:\n"
     ]
    },
    {
     "data": {
      "image/png": "[encoded data removed]",
      "text/plain": [
       "<Figure size 432x288 with 2 Axes>"
      ]
     },
     "metadata": {},
     "output_type": "display_data"
    },
    {
     "name": "stdout",
     "output_type": "stream",
     "text": [
      "****************************************************************************************************\n",
      "\n",
      " The Clasification report for MultinomialNB  algorithm with alpha = 0.07501  is \n",
      "               precision    recall  f1-score   support\n",
      "\n",
      "   negative       0.67      0.69      0.68     11243\n",
      "   positive       0.95      0.94      0.94     63757\n",
      "\n",
      "avg / total       0.90      0.90      0.90     75000\n",
      "\n",
      "Feature Importance for the  Bag-of-Words\n"
     ]
    }
   ],
   "source": [
    "\n",
    "#Optimal value for MultinomialNB:\n",
    "optimal_alpha = Naive_Bayes_GridSearchCV(X_train_bow, y_train)\n",
    "print('Optimal Value for alpha is:' , optimal_alpha)\n",
    "\n",
    "print('*'*100)\n",
    "\n",
    "#Plotting the Confusion matrix for the predicted and actual values to check the accuracy of our model:\n",
    "#The Naive_Bayes_optimal_confusion_matrix_plot function takes 5 arguments as follows:\n",
    "#<X_train , y_train , X_test , optimal_value_of_alpha , type_of_vector>\n",
    "#This method finds the average accuracy score of Naive Bayes model on our test data set.\n",
    "#This method also computes the final Confusion Matrix which determines the performance of our model.\n",
    "#We have calculated the classification report for the classifier Naive Bayes.\n",
    "\n",
    "Naive_Bayes_optimal_confusion_matrix_plot(X_train_bow , y_train ,X_test_bow , optimal_alpha ,'Bag_of_Words')\n",
    "\n",
    "#Calculating the top_10_features for the positive reviews and negative reviews:\n",
    "pos_features , neg_features = top_10_features(optimal_alpha , count_vect ,X_train_bow ,  'Bag-of-Words')\n"
   ]
  },
  {
   "cell_type": "code",
   "execution_count": 503,
   "metadata": {},
   "outputs": [
    {
     "name": "stdout",
     "output_type": "stream",
     "text": [
      "Top 10 positive words with high probability\n"
     ]
    },
    {
     "data": {
      "text/plain": [
       "like      -4.403339\n",
       "tast      -4.459235\n",
       "love      -4.553662\n",
       "good      -4.566895\n",
       "great     -4.596743\n",
       "flavor    -4.616563\n",
       "use       -4.678361\n",
       "tea       -4.746227\n",
       "one       -4.746489\n",
       "product   -4.791058\n",
       "Name: 1, dtype: float64"
      ]
     },
     "execution_count": 503,
     "metadata": {},
     "output_type": "execute_result"
    }
   ],
   "source": [
    "print(\"Top 10 positive words with high probability\")\n",
    "pos_features"
   ]
  },
  {
   "cell_type": "code",
   "execution_count": 504,
   "metadata": {},
   "outputs": [
    {
     "name": "stdout",
     "output_type": "stream",
     "text": [
      "********************************************************************************\n",
      "Top 10 negative words with high probability\n"
     ]
    },
    {
     "data": {
      "text/plain": [
       "tast      -4.157472\n",
       "like      -4.264321\n",
       "product   -4.365458\n",
       "one       -4.693135\n",
       "flavor    -4.750932\n",
       "tri       -4.858991\n",
       "would     -4.859818\n",
       "good      -5.008878\n",
       "use       -5.020958\n",
       "buy       -5.048227\n",
       "Name: 0, dtype: float64"
      ]
     },
     "execution_count": 504,
     "metadata": {},
     "output_type": "execute_result"
    }
   ],
   "source": [
    "print('*'*80)\n",
    "print(\"Top 10 negative words with high probability\")\n",
    "neg_features"
   ]
  },
  {
   "cell_type": "markdown",
   "metadata": {},
   "source": [
    "#### Terminology\n",
    "\n",
    "##### true positives (TP): We predicted +ve review, and review is also +ve.\n",
    "##### true negatives (TN): We predicted -ve, and review is also -ve.\n",
    "##### false positives (FP): We predicted +ve, but the review is not actually +ve.(Also known as a \"Type I error.\")\n",
    "##### false negatives (FN): We predicted -ve, but the review is actually +ve.(Also known as a \"Type II error.\")"
   ]
  },
  {
   "cell_type": "markdown",
   "metadata": {},
   "source": [
    "# OBSERVATION(BoW):\n",
    "\n",
    "##### 1)  In case of Bag of Words vector using the GRIDSEARCHCV() we got the best parametet i.e alpha value 0.07501 and the best accuracy score on Cross Validation data as 0.9028171428571429 which is so much precise. We computed the accuracy score on Test Data as 0.902240 which is near about the accuracy of our model.\n",
    "\n",
    "##### 2) From the confusion matrix let's define the TP , TN , FP , FN:\n",
    "#####     Here TP = 59889 which means 59889 predicted positive reviews  we correctly classified as positive.\n",
    "#####     TN = 7779, FN = 3868 , FP = 3464\n",
    "##### 3) Classification Rate/Accuracy:\n",
    "###### Accuracy = (TP + TN) / (TP + TN + FP + FN)=(59889+7779/(59889+7779+3868+3464)) = 67668/75000 = 0.9022 , which is equal to our accuracy of our classifieras stated above.\n",
    "\n",
    "###### Recall: Recall gives us an idea about when it’s actually yes, how often does it predict yes.\n",
    "###### Recall=TP / (TP + FN)=0.90\n",
    "\n",
    "###### Precision: Precsion tells us about when it predicts yes, how often is it correct.\n",
    "###### Precision = TP / (TP + FP)=0.90\n",
    "\n",
    "###### High recall, low precision:This means that most of the positive examples are correctly recognized (low FN) but there are a lot of false positives.\n",
    "\n",
    "##### TPR : TPR is equal to the precision value so TPR = 0.90\n",
    "##### TNR : TNR = TN/(TN + FP) = 7779/(7779+3464) = 0.69\n",
    "##### FPR : FPR = FP/(FP+TN) = 3464/(7779+3464) = 0.30\n",
    "##### FNR : FNR = FN/(TP+FN) = 3868/(3868+59889) = 0.060\n",
    "\n",
    "##### We get low values of FPR and FNR relatively so our model is sensible.\n",
    " "
   ]
  },
  {
   "cell_type": "code",
   "execution_count": 505,
   "metadata": {},
   "outputs": [
    {
     "name": "stdout",
     "output_type": "stream",
     "text": [
      "(175000,) (175000,) (75000,) (75000,)\n"
     ]
    }
   ],
   "source": [
    "#Now we will split our train and test data and convert them to the TF - idf  vector:\n",
    "X_train, X_test , y_train , y_test = train_test_split(X , y , test_size=0.3 , random_state=55)\n",
    "print(X_train.shape , y_train.shape , X_test.shape , y_test.shape)"
   ]
  },
  {
   "cell_type": "markdown",
   "metadata": {},
   "source": [
    "# Naive Bayes for the TF-idf vector using Train and Test Data:"
   ]
  },
  {
   "cell_type": "code",
   "execution_count": 506,
   "metadata": {},
   "outputs": [
    {
     "name": "stdout",
     "output_type": "stream",
     "text": [
      "X_train_tfidf.get_shape() :  (175000, 189587)\n",
      "X_test_tfidf.get_shape(): (75000, 189587)\n"
     ]
    }
   ],
   "source": [
    "#Uni Gram  Train dataset Tf-IDF Vector:\n",
    "tfidf_vector = TfidfVectorizer(ngram_range=(1,2) , min_df=5 )\n",
    "X_train_tfidf= tfidf_vector.fit_transform(X_train)\n",
    "\n",
    "print('X_train_tfidf.get_shape() : ' , X_train_tfidf.get_shape())\n",
    "\n",
    "\n",
    "# Uni Gram Test dataset Tf-IDF Vectorizer:\n",
    "X_test_tfidf= tfidf_vector.transform(X_test)\n",
    "\n",
    "print('X_test_tfidf.get_shape():' , X_test_tfidf.shape)\n",
    "\n",
    "\n"
   ]
  },
  {
   "cell_type": "code",
   "execution_count": 507,
   "metadata": {},
   "outputs": [
    {
     "data": {
      "text/html": [
       "<div>\n",
       "<style scoped>\n",
       "    .dataframe tbody tr th:only-of-type {\n",
       "        vertical-align: middle;\n",
       "    }\n",
       "\n",
       "    .dataframe tbody tr th {\n",
       "        vertical-align: top;\n",
       "    }\n",
       "\n",
       "    .dataframe thead th {\n",
       "        text-align: right;\n",
       "    }\n",
       "</style>\n",
       "<table border=\"1\" class=\"dataframe\">\n",
       "  <thead>\n",
       "    <tr style=\"text-align: right;\">\n",
       "      <th></th>\n",
       "      <th>0</th>\n",
       "      <th>1</th>\n",
       "    </tr>\n",
       "  </thead>\n",
       "  <tbody>\n",
       "    <tr>\n",
       "      <th>aaah</th>\n",
       "      <td>-12.764596</td>\n",
       "      <td>-13.210115</td>\n",
       "    </tr>\n",
       "    <tr>\n",
       "      <th>aafco</th>\n",
       "      <td>-12.660749</td>\n",
       "      <td>-13.013757</td>\n",
       "    </tr>\n",
       "    <tr>\n",
       "      <th>aah</th>\n",
       "      <td>-12.764596</td>\n",
       "      <td>-13.186570</td>\n",
       "    </tr>\n",
       "    <tr>\n",
       "      <th>aback</th>\n",
       "      <td>-12.166547</td>\n",
       "      <td>-12.702003</td>\n",
       "    </tr>\n",
       "    <tr>\n",
       "      <th>abandon</th>\n",
       "      <td>-12.062453</td>\n",
       "      <td>-12.101976</td>\n",
       "    </tr>\n",
       "  </tbody>\n",
       "</table>\n",
       "</div>"
      ],
      "text/plain": [
       "                 0          1\n",
       "aaah    -12.764596 -13.210115\n",
       "aafco   -12.660749 -13.013757\n",
       "aah     -12.764596 -13.186570\n",
       "aback   -12.166547 -12.702003\n",
       "abandon -12.062453 -12.101976"
      ]
     },
     "execution_count": 507,
     "metadata": {},
     "output_type": "execute_result"
    }
   ],
   "source": [
    "# Below is the vocabulary dataframe of each word in Bag of words vector with its log probabilities.\n",
    "NB_optimal = MultinomialNB()\n",
    "NB_optimal.fit(X_train_tfidf , y_train)\n",
    "features = tfidf_vector.get_feature_names()\n",
    "df = pd.DataFrame(NB_optimal.feature_log_prob_ , columns=features)\n",
    "df_new = df.T\n",
    "df_new.head()\n"
   ]
  },
  {
   "cell_type": "code",
   "execution_count": 508,
   "metadata": {
    "scrolled": false
   },
   "outputs": [
    {
     "name": "stdout",
     "output_type": "stream",
     "text": [
      "{'alpha': [1e-05, 0.00501, 0.01001, 0.015009999999999999, 0.02001, 0.02501, 0.03001, 0.035010000000000006, 0.040010000000000004, 0.04501, 0.050010000000000006, 0.05501, 0.06001, 0.06501, 0.07001, 0.07501, 0.08001, 0.08501, 0.09000999999999999, 0.09501]}\n"
     ]
    },
    {
     "data": {
      "image/png": "[encoded data removed]",
      "text/plain": [
       "<Figure size 576x576 with 1 Axes>"
      ]
     },
     "metadata": {},
     "output_type": "display_data"
    },
    {
     "name": "stdout",
     "output_type": "stream",
     "text": [
      "********************************************************************************\n",
      "Best Score among all the alpha values is: 0.9133942857142857\n",
      "Grid_best_params: {'alpha': 0.08501}\n",
      "Grid_best_estimator: MultinomialNB(alpha=0.08501, class_prior=None, fit_prior=True)\n",
      "Optimal Value for alpha is: 0.08501\n",
      "****************************************************************************************************\n",
      "\n",
      "The accuracy score of the Naive Classifier on Test Data for alpha = 0.085010 is 0.913707\n",
      "****************************************************************************************************\n",
      "Confusion Matrix for the  Tf_idf :\n",
      " [[ 5479  5608]\n",
      " [  864 63049]]\n",
      "****************************************************************************************************\n",
      "Plotting the Confusion Matrix:\n"
     ]
    },
    {
     "data": {
      "image/png": "[encoded data removed]",
      "text/plain": [
       "<Figure size 432x288 with 2 Axes>"
      ]
     },
     "metadata": {},
     "output_type": "display_data"
    },
    {
     "name": "stdout",
     "output_type": "stream",
     "text": [
      "****************************************************************************************************\n",
      "\n",
      " The Clasification report for MultinomialNB  algorithm with alpha = 0.08501  is \n",
      "               precision    recall  f1-score   support\n",
      "\n",
      "   negative       0.86      0.49      0.63     11087\n",
      "   positive       0.92      0.99      0.95     63913\n",
      "\n",
      "avg / total       0.91      0.91      0.90     75000\n",
      "\n",
      "Feature Importance for the  Tf-Idf\n"
     ]
    }
   ],
   "source": [
    "#Optimal value for Brute Force K-NN:\n",
    "optimal_alpha = Naive_Bayes_GridSearchCV(X_train_tfidf, y_train)\n",
    "print('Optimal Value for alpha is:' , optimal_alpha)\n",
    "\n",
    "print('*'*100)\n",
    "\n",
    "#Plotting the Confusion matrix for the predicted and actual values to check the accuracy of our model:\n",
    "#The Naive_Bayes_optimal_confusion_matrix_plot function takes 5 arguments as follows:\n",
    "#<X_train , y_train , X_test , optimal_value_of_alpha , type_of_vector>\n",
    "#This method finds the average accuracy score of Naive Bayes model on our test data set.\n",
    "#This method also computes the final Confusion Matrix which determines the performance of our model.\n",
    "#We have calculated the classification report for the classifier Naive Bayes.\n",
    "Naive_Bayes_optimal_confusion_matrix_plot(X_train_tfidf , y_train ,X_test_tfidf , optimal_alpha ,'Tf_idf')\n",
    "\n",
    "#Calculating the top_10_features for the positive reviews and negative reviews:\n",
    "pos_features , neg_features = top_10_features(optimal_alpha , tfidf_vector ,X_train_tfidf,  'Tf-Idf')"
   ]
  },
  {
   "cell_type": "code",
   "execution_count": 509,
   "metadata": {},
   "outputs": [
    {
     "name": "stdout",
     "output_type": "stream",
     "text": [
      "Top 10 positive words with high probability\n"
     ]
    },
    {
     "data": {
      "text/plain": [
       "love      -6.035315\n",
       "great     -6.038516\n",
       "tea       -6.102785\n",
       "good      -6.110036\n",
       "tast      -6.129824\n",
       "like      -6.135853\n",
       "flavor    -6.202008\n",
       "coffe     -6.223592\n",
       "product   -6.267301\n",
       "use       -6.272929\n",
       "Name: 1, dtype: float64"
      ]
     },
     "execution_count": 509,
     "metadata": {},
     "output_type": "execute_result"
    }
   ],
   "source": [
    "print(\"Top 10 positive words with high probability\")\n",
    "pos_features"
   ]
  },
  {
   "cell_type": "code",
   "execution_count": 510,
   "metadata": {},
   "outputs": [
    {
     "name": "stdout",
     "output_type": "stream",
     "text": [
      "********************************************************************************\n",
      "Top 10 negative words with high probability\n"
     ]
    },
    {
     "data": {
      "text/plain": [
       "tast      -6.345595\n",
       "product   -6.491137\n",
       "like      -6.504275\n",
       "would     -6.830566\n",
       "one       -6.852677\n",
       "flavor    -6.887511\n",
       "order     -6.949360\n",
       "buy       -6.961424\n",
       "coffe     -6.983629\n",
       "tri       -6.994169\n",
       "Name: 0, dtype: float64"
      ]
     },
     "execution_count": 510,
     "metadata": {},
     "output_type": "execute_result"
    }
   ],
   "source": [
    "print('*'*80)\n",
    "print(\"Top 10 negative words with high probability\")\n",
    "neg_features"
   ]
  },
  {
   "cell_type": "markdown",
   "metadata": {},
   "source": [
    "# OBSERVATION(Tf-IDF):\n",
    "\n",
    "##### 1)  In this case of TFIDF vector using the GRIDSEARCHCV() we got the best_parameter i.e alpha value = 0.08501 and the best accuracy score on Cross Validation data as 0.9133942857142857 . We computed the accuracy score on Test Data as 0.913707 which is little more than the accuracy of our model.\n",
    "\n",
    "##### 2) From the confusion matrix let's define the TP , TN , FP , FN:\n",
    "#####     Here TP = 63049 which means 63049 predicted positive reviews  we correctly classified as positive.\n",
    "#####     TN = 5479, FN = 864 , FP = 5608\n",
    "##### 3) Classification Rate/Accuracy:\n",
    "###### Accuracy = (TP + TN) / (TP + TN + FP + FN)=(63049+5479/(63049+5479+864+5608)) = 0.91339 , which is equal to our accuracy of our classifier as stated above.\n",
    "\n",
    "###### Recall: Recall gives us an idea about when it’s actually yes, how often does it predict yes.\n",
    "###### Recall=TP / (TP + FN)=0.91\n",
    "\n",
    "###### Precision: Precsion tells us about when it predicts yes, how often is it correct.\n",
    "###### Precision = TP / (TP + FP)=0.91\n",
    "\n",
    "###### High recall, low precision: This means that most of the positive examples are correctly recognized (low FN) but there are a lot of false positives.\n",
    "#####  Low recall, high precision: This shows that we miss a lot of positive examples (high FN) but those we predict as positive are indeed positive (low FP).\n",
    "\n",
    "##### TPR : TPR is equal to the precision value so TPR = 0.91\n",
    "##### TNR : TNR = TN/(TN + FP) = 5479/(5479+5608) = 0.49\n",
    "##### FPR : FPR = FP/(FP+TN) = 5608/(5608+5479) = 0.50\n",
    "##### FNR : FNR = FN/(TP+FN) = 864/(864+63049) = 0.013\n",
    "\n",
    "##### We get low values of FPR and FNR relatively so our model is sensible in case of tf-idf vector."
   ]
  },
  {
   "cell_type": "markdown",
   "metadata": {},
   "source": [
    "# CONCLUSIONS:\n",
    "\n",
    "#### 1. Both Bow and Tf-Idf representations and classifier associated with them have almost same accuracy. \n",
    "#### 2. We have assume two things here while trainning our model :\n",
    "#####     a) Relative ordering of the words does not make much difference.\n",
    "#####     b) Features in case of Bow , tf-Idf are conditionally independent of each other. \n",
    "##### These assumptions reduces the complexities in computing the likelihoods.\n",
    "\n",
    "#### 3. Naive Bayes is very fast trainning model as compared to the KNN Model.\n",
    "#### 4. Naive Bayes assumes features are independent of each other whereas in W2V features are so much dependent so using the \n",
    "####     naive bayes with W2Vec is not the good idea here. "
   ]
  },
  {
   "cell_type": "code",
   "execution_count": null,
   "metadata": {},
   "outputs": [],
   "source": []
  }
 ],
 "metadata": {
  "kernelspec": {
   "display_name": "Python 3",
   "language": "python",
   "name": "python3"
  },
  "language_info": {
   "codemirror_mode": {
    "name": "ipython",
    "version": 3
   },
   "file_extension": ".py",
   "mimetype": "text/x-python",
   "name": "python",
   "nbconvert_exporter": "python",
   "pygments_lexer": "ipython3",
   "version": "3.6.6"
  }
 },
 "nbformat": 4,
 "nbformat_minor": 2
}
