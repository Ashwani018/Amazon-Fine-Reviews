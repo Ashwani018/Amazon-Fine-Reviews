{
  "nbformat": 4,
  "nbformat_minor": 0,
  "metadata": {
    "colab": {
      "name": "KNN Amazon Fine Food Reviews.ipynb",
      "version": "0.3.2",
      "provenance": [],
      "collapsed_sections": [],
      "include_colab_link": true
    },
    "kernelspec": {
      "name": "python3",
      "display_name": "Python 3"
    },
    "accelerator": "TPU"
  },
  "cells": [
    {
      "cell_type": "markdown",
      "metadata": {
        "id": "view-in-github",
        "colab_type": "text"
      },
      "source": [
        "[View in Colaboratory](https://colab.research.google.com/github/Ashwani018/Amazon-Fine-Reviews/blob/master/KNN_Amazon_Fine_Food_Reviews.ipynb)"
      ]
    },
    {
      "metadata": {
        "id": "T4eZXFQvB36b",
        "colab_type": "code",
        "colab": {
          "base_uri": "https://localhost:8080/",
          "height": 564
        },
        "outputId": "c6b93313-768e-4138-ad33-5d43023f40a4"
      },
      "cell_type": "code",
      "source": [
        "!pip install gensim\n",
        "!pip install nltk\n",
        "!pip install kaggle\n",
        "\n"
      ],
      "execution_count": 36,
      "outputs": [
        {
          "output_type": "stream",
          "text": [
            "Requirement already satisfied: gensim in /usr/local/lib/python3.6/dist-packages (3.6.0)\n",
            "Requirement already satisfied: scipy>=0.18.1 in /usr/local/lib/python3.6/dist-packages (from gensim) (0.19.1)\n",
            "Requirement already satisfied: smart-open>=1.2.1 in /usr/local/lib/python3.6/dist-packages (from gensim) (1.7.1)\n",
            "Requirement already satisfied: six>=1.5.0 in /usr/local/lib/python3.6/dist-packages (from gensim) (1.11.0)\n",
            "Requirement already satisfied: numpy>=1.11.3 in /usr/local/lib/python3.6/dist-packages (from gensim) (1.14.6)\n",
            "Requirement already satisfied: boto>=2.32 in /usr/local/lib/python3.6/dist-packages (from smart-open>=1.2.1->gensim) (2.49.0)\n",
            "Requirement already satisfied: requests in /usr/local/lib/python3.6/dist-packages (from smart-open>=1.2.1->gensim) (2.18.4)\n",
            "Requirement already satisfied: boto3 in /usr/local/lib/python3.6/dist-packages (from smart-open>=1.2.1->gensim) (1.9.27)\n",
            "Requirement already satisfied: bz2file in /usr/local/lib/python3.6/dist-packages (from smart-open>=1.2.1->gensim) (0.98)\n",
            "Requirement already satisfied: idna<2.7,>=2.5 in /usr/local/lib/python3.6/dist-packages (from requests->smart-open>=1.2.1->gensim) (2.6)\n",
            "Requirement already satisfied: urllib3<1.23,>=1.21.1 in /usr/local/lib/python3.6/dist-packages (from requests->smart-open>=1.2.1->gensim) (1.22)\n",
            "Requirement already satisfied: certifi>=2017.4.17 in /usr/local/lib/python3.6/dist-packages (from requests->smart-open>=1.2.1->gensim) (2018.10.15)\n",
            "Requirement already satisfied: chardet<3.1.0,>=3.0.2 in /usr/local/lib/python3.6/dist-packages (from requests->smart-open>=1.2.1->gensim) (3.0.4)\n",
            "Requirement already satisfied: jmespath<1.0.0,>=0.7.1 in /usr/local/lib/python3.6/dist-packages (from boto3->smart-open>=1.2.1->gensim) (0.9.3)\n",
            "Requirement already satisfied: s3transfer<0.2.0,>=0.1.10 in /usr/local/lib/python3.6/dist-packages (from boto3->smart-open>=1.2.1->gensim) (0.1.13)\n",
            "Requirement already satisfied: botocore<1.13.0,>=1.12.27 in /usr/local/lib/python3.6/dist-packages (from boto3->smart-open>=1.2.1->gensim) (1.12.27)\n",
            "Requirement already satisfied: docutils>=0.10 in /usr/local/lib/python3.6/dist-packages (from botocore<1.13.0,>=1.12.27->boto3->smart-open>=1.2.1->gensim) (0.14)\n",
            "Requirement already satisfied: python-dateutil<3.0.0,>=2.1; python_version >= \"2.7\" in /usr/local/lib/python3.6/dist-packages (from botocore<1.13.0,>=1.12.27->boto3->smart-open>=1.2.1->gensim) (2.5.3)\n",
            "Requirement already satisfied: nltk in /usr/local/lib/python3.6/dist-packages (3.2.5)\n",
            "Requirement already satisfied: six in /usr/local/lib/python3.6/dist-packages (from nltk) (1.11.0)\n",
            "Requirement already satisfied: kaggle in /usr/local/lib/python3.6/dist-packages (1.4.7.1)\n",
            "Requirement already satisfied: tqdm in /usr/local/lib/python3.6/dist-packages (from kaggle) (4.27.0)\n",
            "Requirement already satisfied: certifi in /usr/local/lib/python3.6/dist-packages (from kaggle) (2018.10.15)\n",
            "Requirement already satisfied: python-dateutil in /usr/local/lib/python3.6/dist-packages (from kaggle) (2.5.3)\n",
            "Requirement already satisfied: six>=1.10 in /usr/local/lib/python3.6/dist-packages (from kaggle) (1.11.0)\n",
            "Requirement already satisfied: requests in /usr/local/lib/python3.6/dist-packages (from kaggle) (2.18.4)\n",
            "Requirement already satisfied: python-slugify in /usr/local/lib/python3.6/dist-packages (from kaggle) (1.2.6)\n",
            "Requirement already satisfied: urllib3<1.23.0,>=1.15 in /usr/local/lib/python3.6/dist-packages (from kaggle) (1.22)\n",
            "Requirement already satisfied: chardet<3.1.0,>=3.0.2 in /usr/local/lib/python3.6/dist-packages (from requests->kaggle) (3.0.4)\n",
            "Requirement already satisfied: idna<2.7,>=2.5 in /usr/local/lib/python3.6/dist-packages (from requests->kaggle) (2.6)\n",
            "Requirement already satisfied: Unidecode>=0.04.16 in /usr/local/lib/python3.6/dist-packages (from python-slugify->kaggle) (1.0.22)\n"
          ],
          "name": "stdout"
        }
      ]
    },
    {
      "metadata": {
        "id": "YESvKPCXDAoC",
        "colab_type": "code",
        "colab": {
          "base_uri": "https://localhost:8080/",
          "height": 51
        },
        "outputId": "9d5de15f-fe09-49d4-e221-5b21faa81e24"
      },
      "cell_type": "code",
      "source": [
        "#!rm -r  kaggle  # remove directory .kaggle\n",
        "#!rm -r .kaggle  # remove directory .kaggle\n",
        "#!mkdir .kaggle  # create directory .kaggle\n",
        "#!mkdir  kaggle  # create directory kaggle\n"
      ],
      "execution_count": 17,
      "outputs": [
        {
          "output_type": "stream",
          "text": [
            "mkdir: cannot create directory ‘.kaggle’: File exists\n",
            "mkdir: cannot create directory ‘kaggle’: File exists\n"
          ],
          "name": "stdout"
        }
      ]
    },
    {
      "metadata": {
        "id": "V5T-j8SECl2o",
        "colab_type": "code",
        "colab": {}
      },
      "cell_type": "code",
      "source": [
        "from google.colab import files\n",
        "files.upload()\n",
        "!cp kaggle.json ~/.kaggle/"
      ],
      "execution_count": 0,
      "outputs": []
    },
    {
      "metadata": {
        "id": "MhgDNwo5B-5b",
        "colab_type": "code",
        "colab": {}
      },
      "cell_type": "code",
      "source": [
        "import json\n",
        "token = {\"username\":\"ashwani0187\",\"key\":\"f9c7f8263297d23fef670995e74ae664\"}\n",
        "with open('/content/.kaggle/kaggle.json', 'w') as file:\n",
        "  json.dump(token, file)   #save the token file\n",
        "  \n",
        "!chmod 600 /content/.kaggle/kaggle.json #change permissions\n",
        "!kaggle config set -n path -v{/content/kaggle} #change directory path"
      ],
      "execution_count": 0,
      "outputs": []
    },
    {
      "metadata": {
        "id": "VbQ7Q9EvCB2r",
        "colab_type": "code",
        "colab": {}
      },
      "cell_type": "code",
      "source": [
        "!kaggle datasets download -d snap/amazon-fine-food-reviews -p /content/kaggle/amazon-fine-food-reviews"
      ],
      "execution_count": 0,
      "outputs": []
    },
    {
      "metadata": {
        "id": "DMvR1mpeCEyU",
        "colab_type": "code",
        "colab": {
          "base_uri": "https://localhost:8080/",
          "height": 51
        },
        "outputId": "6163a89f-383e-476e-fb61-aefc075974a6"
      },
      "cell_type": "code",
      "source": [
        "%cd /content/kaggle/amazon-fine-food-reviews\n",
        "!ls -a"
      ],
      "execution_count": 21,
      "outputs": [
        {
          "output_type": "stream",
          "text": [
            "/content/kaggle/amazon-fine-food-reviews\n",
            ".  ..  amazon-fine-food-reviews.zip\n"
          ],
          "name": "stdout"
        }
      ]
    },
    {
      "metadata": {
        "id": "v5rYdcEyCH7g",
        "colab_type": "code",
        "colab": {
          "base_uri": "https://localhost:8080/",
          "height": 102
        },
        "outputId": "9a43b6e3-18c1-46d3-b331-35bddf8ffe58"
      },
      "cell_type": "code",
      "source": [
        "import os\n",
        "os.getcwd()\n",
        "!ls\n",
        "!unzip /content/kaggle/amazon-fine-food-reviews/amazon-fine-food-reviews.zip"
      ],
      "execution_count": 22,
      "outputs": [
        {
          "output_type": "stream",
          "text": [
            "amazon-fine-food-reviews.zip\n",
            "Archive:  /content/kaggle/amazon-fine-food-reviews/amazon-fine-food-reviews.zip\n",
            "  inflating: Reviews.csv             \n",
            "  inflating: database.sqlite         \n",
            "  inflating: hashes.txt              \n"
          ],
          "name": "stdout"
        }
      ]
    },
    {
      "metadata": {
        "id": "MVd4HPWqp56W",
        "colab_type": "code",
        "colab": {}
      },
      "cell_type": "code",
      "source": [
        "import numpy as np\n",
        "import pandas as pd\n",
        "import matplotlib.pyplot as plt\n",
        "import seaborn as sns\n",
        "import warnings\n",
        "warnings.filterwarnings('ignore')\n",
        "\n",
        "%matplotlib inline\n",
        "\n",
        "import sqlite3\n",
        "import string\n",
        "import nltk\n",
        "\n",
        "from sklearn.decomposition import TruncatedSVD\n",
        "from sklearn.feature_extraction.text import TfidfTransformer\n",
        "from sklearn.feature_extraction.text import TfidfVectorizer\n",
        "from sklearn.feature_extraction.text import CountVectorizer\n",
        "\n",
        "import re\n",
        "import string\n",
        "from gensim.models import Word2Vec\n",
        "from gensim.models import KeyedVectors\n",
        "import pickle\n",
        "import os\n",
        "from tqdm import tqdm\n",
        "\n",
        "from sklearn.neighbors import KNeighborsClassifier\n",
        "from sklearn.cross_validation import cross_val_score\n",
        "from sklearn.metrics import accuracy_score\n",
        "from sklearn.cross_validation import train_test_split\n",
        "\n",
        "\n",
        "\n",
        "\n",
        "\n"
      ],
      "execution_count": 0,
      "outputs": []
    },
    {
      "metadata": {
        "id": "1S5dz2hGCLXd",
        "colab_type": "code",
        "colab": {}
      },
      "cell_type": "code",
      "source": [
        "#connecting to the database:\n",
        "con = sqlite3.connect(\"database.sqlite\")"
      ],
      "execution_count": 0,
      "outputs": []
    },
    {
      "metadata": {
        "id": "VJ3mXjcJl641",
        "colab_type": "code",
        "colab": {
          "base_uri": "https://localhost:8080/",
          "height": 196
        },
        "outputId": "904d855b-4c0f-4a6c-e959-2df6da7e428c"
      },
      "cell_type": "code",
      "source": [
        "# Extracting out the positive and negative features \n",
        "amazon_featured_reviews = pd.read_sql_query(\"\"\"SELECT * FROM REVIEWS WHERE SCORE != 3\"\"\" , con)\n",
        "\n",
        "print(amazon_featured_reviews.shape)\n",
        "\n",
        "\n",
        "\n",
        "\n",
        "# Creating the partition function returning the positive or negative reviews and appending them in the Score column in place \n",
        "# of ratings given:\n",
        "\n",
        "def partition(x):\n",
        "        if x < 3:\n",
        "            return 'negative'\n",
        "        else :\n",
        "            return 'positive'\n",
        "        \n",
        "        \n",
        "pos_neg_reviews_df = amazon_featured_reviews['Score'].map(partition)\n",
        "print(type(pos_neg_reviews_df) , 'pos_neg_reviews_df' , pos_neg_reviews_df.shape)\n",
        "print('type(amazon_featured_reviews):' , type(amazon_featured_reviews))\n",
        "amazon_featured_reviews['Score'] = pos_neg_reviews_df\n",
        "amazon_featured_reviews.shape\n",
        "amazon_featured_reviews.head(2)\n"
      ],
      "execution_count": 26,
      "outputs": [
        {
          "output_type": "stream",
          "text": [
            "(525814, 10)\n",
            "<class 'pandas.core.series.Series'> pos_neg_reviews_df (525814,)\n",
            "type(amazon_featured_reviews): <class 'pandas.core.frame.DataFrame'>\n"
          ],
          "name": "stdout"
        },
        {
          "output_type": "execute_result",
          "data": {
            "text/html": [
              "<div>\n",
              "<style scoped>\n",
              "    .dataframe tbody tr th:only-of-type {\n",
              "        vertical-align: middle;\n",
              "    }\n",
              "\n",
              "    .dataframe tbody tr th {\n",
              "        vertical-align: top;\n",
              "    }\n",
              "\n",
              "    .dataframe thead th {\n",
              "        text-align: right;\n",
              "    }\n",
              "</style>\n",
              "<table border=\"1\" class=\"dataframe\">\n",
              "  <thead>\n",
              "    <tr style=\"text-align: right;\">\n",
              "      <th></th>\n",
              "      <th>Id</th>\n",
              "      <th>ProductId</th>\n",
              "      <th>UserId</th>\n",
              "      <th>ProfileName</th>\n",
              "      <th>HelpfulnessNumerator</th>\n",
              "      <th>HelpfulnessDenominator</th>\n",
              "      <th>Score</th>\n",
              "      <th>Time</th>\n",
              "      <th>Summary</th>\n",
              "      <th>Text</th>\n",
              "    </tr>\n",
              "  </thead>\n",
              "  <tbody>\n",
              "    <tr>\n",
              "      <th>0</th>\n",
              "      <td>1</td>\n",
              "      <td>B001E4KFG0</td>\n",
              "      <td>A3SGXH7AUHU8GW</td>\n",
              "      <td>delmartian</td>\n",
              "      <td>1</td>\n",
              "      <td>1</td>\n",
              "      <td>positive</td>\n",
              "      <td>1303862400</td>\n",
              "      <td>Good Quality Dog Food</td>\n",
              "      <td>I have bought several of the Vitality canned d...</td>\n",
              "    </tr>\n",
              "    <tr>\n",
              "      <th>1</th>\n",
              "      <td>2</td>\n",
              "      <td>B00813GRG4</td>\n",
              "      <td>A1D87F6ZCVE5NK</td>\n",
              "      <td>dll pa</td>\n",
              "      <td>0</td>\n",
              "      <td>0</td>\n",
              "      <td>negative</td>\n",
              "      <td>1346976000</td>\n",
              "      <td>Not as Advertised</td>\n",
              "      <td>Product arrived labeled as Jumbo Salted Peanut...</td>\n",
              "    </tr>\n",
              "  </tbody>\n",
              "</table>\n",
              "</div>"
            ],
            "text/plain": [
              "   Id   ProductId          UserId ProfileName  HelpfulnessNumerator  \\\n",
              "0   1  B001E4KFG0  A3SGXH7AUHU8GW  delmartian                     1   \n",
              "1   2  B00813GRG4  A1D87F6ZCVE5NK      dll pa                     0   \n",
              "\n",
              "   HelpfulnessDenominator     Score        Time                Summary  \\\n",
              "0                       1  positive  1303862400  Good Quality Dog Food   \n",
              "1                       0  negative  1346976000      Not as Advertised   \n",
              "\n",
              "                                                Text  \n",
              "0  I have bought several of the Vitality canned d...  \n",
              "1  Product arrived labeled as Jumbo Salted Peanut...  "
            ]
          },
          "metadata": {
            "tags": []
          },
          "execution_count": 26
        }
      ]
    },
    {
      "metadata": {
        "id": "erRRAOJBE3Qw",
        "colab_type": "code",
        "colab": {
          "base_uri": "https://localhost:8080/",
          "height": 275
        },
        "outputId": "8c283838-b434-464d-ece8-d538bb9e397e"
      },
      "cell_type": "code",
      "source": [
        "# Data deduplication is used to clean the data having redundancy and many unwanted things which msut be removed to further\n",
        "# use the data:\n",
        "\n",
        "duplicate_df = pd.read_sql_query(\"\"\"SELECT * FROM REVIEWS WHERE SCORE !=3 AND Text IN \n",
        "                                    (SELECT Text FROM REVIEWS\n",
        "                                    GROUP BY Text having count(*) > 1)\n",
        "                                    \"\"\" , con)\n",
        "duplicate_df.head(4)\n",
        "\n",
        "#So we can see there are many such duplicated rows having some column values similar to each other"
      ],
      "execution_count": 27,
      "outputs": [
        {
          "output_type": "execute_result",
          "data": {
            "text/html": [
              "<div>\n",
              "<style scoped>\n",
              "    .dataframe tbody tr th:only-of-type {\n",
              "        vertical-align: middle;\n",
              "    }\n",
              "\n",
              "    .dataframe tbody tr th {\n",
              "        vertical-align: top;\n",
              "    }\n",
              "\n",
              "    .dataframe thead th {\n",
              "        text-align: right;\n",
              "    }\n",
              "</style>\n",
              "<table border=\"1\" class=\"dataframe\">\n",
              "  <thead>\n",
              "    <tr style=\"text-align: right;\">\n",
              "      <th></th>\n",
              "      <th>Id</th>\n",
              "      <th>ProductId</th>\n",
              "      <th>UserId</th>\n",
              "      <th>ProfileName</th>\n",
              "      <th>HelpfulnessNumerator</th>\n",
              "      <th>HelpfulnessDenominator</th>\n",
              "      <th>Score</th>\n",
              "      <th>Time</th>\n",
              "      <th>Summary</th>\n",
              "      <th>Text</th>\n",
              "    </tr>\n",
              "  </thead>\n",
              "  <tbody>\n",
              "    <tr>\n",
              "      <th>0</th>\n",
              "      <td>4</td>\n",
              "      <td>B000UA0QIQ</td>\n",
              "      <td>A395BORC6FGVXV</td>\n",
              "      <td>Karl</td>\n",
              "      <td>3</td>\n",
              "      <td>3</td>\n",
              "      <td>2</td>\n",
              "      <td>1307923200</td>\n",
              "      <td>Cough Medicine</td>\n",
              "      <td>If you are looking for the secret ingredient i...</td>\n",
              "    </tr>\n",
              "    <tr>\n",
              "      <th>1</th>\n",
              "      <td>11</td>\n",
              "      <td>B0001PB9FE</td>\n",
              "      <td>A3HDKO7OW0QNK4</td>\n",
              "      <td>Canadian Fan</td>\n",
              "      <td>1</td>\n",
              "      <td>1</td>\n",
              "      <td>5</td>\n",
              "      <td>1107820800</td>\n",
              "      <td>The Best Hot Sauce in the World</td>\n",
              "      <td>I don't know if it's the cactus or the tequila...</td>\n",
              "    </tr>\n",
              "    <tr>\n",
              "      <th>2</th>\n",
              "      <td>30</td>\n",
              "      <td>B0001PB9FY</td>\n",
              "      <td>A3HDKO7OW0QNK4</td>\n",
              "      <td>Canadian Fan</td>\n",
              "      <td>1</td>\n",
              "      <td>1</td>\n",
              "      <td>5</td>\n",
              "      <td>1107820800</td>\n",
              "      <td>The Best Hot Sauce in the World</td>\n",
              "      <td>I don't know if it's the cactus or the tequila...</td>\n",
              "    </tr>\n",
              "    <tr>\n",
              "      <th>3</th>\n",
              "      <td>70</td>\n",
              "      <td>B000E7VI7S</td>\n",
              "      <td>AWCBF2ZWIN57F</td>\n",
              "      <td>C. Salcido</td>\n",
              "      <td>0</td>\n",
              "      <td>2</td>\n",
              "      <td>5</td>\n",
              "      <td>1185753600</td>\n",
              "      <td>pretzel haven!</td>\n",
              "      <td>this was sooooo deliscious but too bad i ate e...</td>\n",
              "    </tr>\n",
              "  </tbody>\n",
              "</table>\n",
              "</div>"
            ],
            "text/plain": [
              "   Id   ProductId          UserId   ProfileName  HelpfulnessNumerator  \\\n",
              "0   4  B000UA0QIQ  A395BORC6FGVXV          Karl                     3   \n",
              "1  11  B0001PB9FE  A3HDKO7OW0QNK4  Canadian Fan                     1   \n",
              "2  30  B0001PB9FY  A3HDKO7OW0QNK4  Canadian Fan                     1   \n",
              "3  70  B000E7VI7S   AWCBF2ZWIN57F    C. Salcido                     0   \n",
              "\n",
              "   HelpfulnessDenominator  Score        Time                          Summary  \\\n",
              "0                       3      2  1307923200                   Cough Medicine   \n",
              "1                       1      5  1107820800  The Best Hot Sauce in the World   \n",
              "2                       1      5  1107820800  The Best Hot Sauce in the World   \n",
              "3                       2      5  1185753600                   pretzel haven!   \n",
              "\n",
              "                                                Text  \n",
              "0  If you are looking for the secret ingredient i...  \n",
              "1  I don't know if it's the cactus or the tequila...  \n",
              "2  I don't know if it's the cactus or the tequila...  \n",
              "3  this was sooooo deliscious but too bad i ate e...  "
            ]
          },
          "metadata": {
            "tags": []
          },
          "execution_count": 27
        }
      ]
    },
    {
      "metadata": {
        "id": "pf1z5bmmE5l9",
        "colab_type": "code",
        "colab": {
          "base_uri": "https://localhost:8080/",
          "height": 337
        },
        "outputId": "7519daac-ffb7-4655-d8c8-11eaea7557c1"
      },
      "cell_type": "code",
      "source": [
        "#Doing some other check using the below query to see whether such reduncdancy is over small scale or a large scale of rows:\n",
        "# From count(*) values we can see that we have so much of redundant data, so it has to be cleaned.\n",
        "dup_data = pd.read_sql_query(\"\"\"\n",
        "select ID,ProductID,USERID , PROFILENAME , Summary ,text ,count(*) AS COUNT\n",
        "FROM REVIEWS\n",
        "GROUP BY PRODUCTID,SUMMARY,TEXT  \n",
        "having count(*) > 1\"\"\",con)\n",
        "dup_data.head(6)"
      ],
      "execution_count": 28,
      "outputs": [
        {
          "output_type": "execute_result",
          "data": {
            "text/html": [
              "<div>\n",
              "<style scoped>\n",
              "    .dataframe tbody tr th:only-of-type {\n",
              "        vertical-align: middle;\n",
              "    }\n",
              "\n",
              "    .dataframe tbody tr th {\n",
              "        vertical-align: top;\n",
              "    }\n",
              "\n",
              "    .dataframe thead th {\n",
              "        text-align: right;\n",
              "    }\n",
              "</style>\n",
              "<table border=\"1\" class=\"dataframe\">\n",
              "  <thead>\n",
              "    <tr style=\"text-align: right;\">\n",
              "      <th></th>\n",
              "      <th>Id</th>\n",
              "      <th>ProductId</th>\n",
              "      <th>UserId</th>\n",
              "      <th>ProfileName</th>\n",
              "      <th>Summary</th>\n",
              "      <th>Text</th>\n",
              "      <th>COUNT</th>\n",
              "    </tr>\n",
              "  </thead>\n",
              "  <tbody>\n",
              "    <tr>\n",
              "      <th>0</th>\n",
              "      <td>171154</td>\n",
              "      <td>7310172001</td>\n",
              "      <td>AJD41FBJD9010</td>\n",
              "      <td>N. Ferguson \"Two, Daisy, Hannah, and Kitten\"</td>\n",
              "      <td>best dog treat-- great for training---  all do...</td>\n",
              "      <td>Freeze dried liver has a hypnotic effect on do...</td>\n",
              "      <td>2</td>\n",
              "    </tr>\n",
              "    <tr>\n",
              "      <th>1</th>\n",
              "      <td>217385</td>\n",
              "      <td>7310172101</td>\n",
              "      <td>AJD41FBJD9010</td>\n",
              "      <td>N. Ferguson \"Two, Daisy, Hannah, and Kitten\"</td>\n",
              "      <td>best dog treat-- great for training---  all do...</td>\n",
              "      <td>Freeze dried liver has a hypnotic effect on do...</td>\n",
              "      <td>2</td>\n",
              "    </tr>\n",
              "    <tr>\n",
              "      <th>2</th>\n",
              "      <td>369857</td>\n",
              "      <td>B000084DWM</td>\n",
              "      <td>A3TVZM3ZIXG8YW</td>\n",
              "      <td>christopher hayes</td>\n",
              "      <td>Filler food is empty, leaves your cat always n...</td>\n",
              "      <td>This review will make me sound really stupid, ...</td>\n",
              "      <td>10</td>\n",
              "    </tr>\n",
              "    <tr>\n",
              "      <th>3</th>\n",
              "      <td>369801</td>\n",
              "      <td>B000084DWM</td>\n",
              "      <td>A36JDIN9RAAIEC</td>\n",
              "      <td>Jon</td>\n",
              "      <td>Great product, but trust your vet not the hype</td>\n",
              "      <td>I have two cats, one 6 and one 2 years old. Bo...</td>\n",
              "      <td>2</td>\n",
              "    </tr>\n",
              "    <tr>\n",
              "      <th>4</th>\n",
              "      <td>410265</td>\n",
              "      <td>B000084EZ4</td>\n",
              "      <td>A2FGXWWR8ZU59C</td>\n",
              "      <td>Thomas Lawrence</td>\n",
              "      <td>Cats love the food, but no pull-tab top, and d...</td>\n",
              "      <td>I appreciate being able to buy this larger, mo...</td>\n",
              "      <td>2</td>\n",
              "    </tr>\n",
              "    <tr>\n",
              "      <th>5</th>\n",
              "      <td>410304</td>\n",
              "      <td>B000084EZ4</td>\n",
              "      <td>A29JUMRL1US6YP</td>\n",
              "      <td>HTBK</td>\n",
              "      <td>Fantastic Food for Good Cat Health</td>\n",
              "      <td>The pet food industry can be one of the most i...</td>\n",
              "      <td>4</td>\n",
              "    </tr>\n",
              "  </tbody>\n",
              "</table>\n",
              "</div>"
            ],
            "text/plain": [
              "       Id   ProductId          UserId  \\\n",
              "0  171154  7310172001   AJD41FBJD9010   \n",
              "1  217385  7310172101   AJD41FBJD9010   \n",
              "2  369857  B000084DWM  A3TVZM3ZIXG8YW   \n",
              "3  369801  B000084DWM  A36JDIN9RAAIEC   \n",
              "4  410265  B000084EZ4  A2FGXWWR8ZU59C   \n",
              "5  410304  B000084EZ4  A29JUMRL1US6YP   \n",
              "\n",
              "                                    ProfileName  \\\n",
              "0  N. Ferguson \"Two, Daisy, Hannah, and Kitten\"   \n",
              "1  N. Ferguson \"Two, Daisy, Hannah, and Kitten\"   \n",
              "2                             christopher hayes   \n",
              "3                                           Jon   \n",
              "4                               Thomas Lawrence   \n",
              "5                                          HTBK   \n",
              "\n",
              "                                             Summary  \\\n",
              "0  best dog treat-- great for training---  all do...   \n",
              "1  best dog treat-- great for training---  all do...   \n",
              "2  Filler food is empty, leaves your cat always n...   \n",
              "3     Great product, but trust your vet not the hype   \n",
              "4  Cats love the food, but no pull-tab top, and d...   \n",
              "5                 Fantastic Food for Good Cat Health   \n",
              "\n",
              "                                                Text  COUNT  \n",
              "0  Freeze dried liver has a hypnotic effect on do...      2  \n",
              "1  Freeze dried liver has a hypnotic effect on do...      2  \n",
              "2  This review will make me sound really stupid, ...     10  \n",
              "3  I have two cats, one 6 and one 2 years old. Bo...      2  \n",
              "4  I appreciate being able to buy this larger, mo...      2  \n",
              "5  The pet food industry can be one of the most i...      4  "
            ]
          },
          "metadata": {
            "tags": []
          },
          "execution_count": 28
        }
      ]
    },
    {
      "metadata": {
        "id": "nmpd2WTVE7T0",
        "colab_type": "code",
        "colab": {
          "base_uri": "https://localhost:8080/",
          "height": 541
        },
        "outputId": "69d126fb-abea-4532-e0e5-ac19051eaaa6"
      },
      "cell_type": "code",
      "source": [
        "# Let's see another case:\n",
        "\n",
        "dup_data = pd.read_sql_query(\"\"\"SELECT * FROM REVIEWS\n",
        "                                    WHERE SCORE != 3 AND UserId = \"AJD41FBJD9010\" AND ProductID=\"7310172001\"\n",
        "                                    Order by ProductID\"\"\" , con)\n",
        "dup_data\n"
      ],
      "execution_count": 29,
      "outputs": [
        {
          "output_type": "execute_result",
          "data": {
            "text/html": [
              "<div>\n",
              "<style scoped>\n",
              "    .dataframe tbody tr th:only-of-type {\n",
              "        vertical-align: middle;\n",
              "    }\n",
              "\n",
              "    .dataframe tbody tr th {\n",
              "        vertical-align: top;\n",
              "    }\n",
              "\n",
              "    .dataframe thead th {\n",
              "        text-align: right;\n",
              "    }\n",
              "</style>\n",
              "<table border=\"1\" class=\"dataframe\">\n",
              "  <thead>\n",
              "    <tr style=\"text-align: right;\">\n",
              "      <th></th>\n",
              "      <th>Id</th>\n",
              "      <th>ProductId</th>\n",
              "      <th>UserId</th>\n",
              "      <th>ProfileName</th>\n",
              "      <th>HelpfulnessNumerator</th>\n",
              "      <th>HelpfulnessDenominator</th>\n",
              "      <th>Score</th>\n",
              "      <th>Time</th>\n",
              "      <th>Summary</th>\n",
              "      <th>Text</th>\n",
              "    </tr>\n",
              "  </thead>\n",
              "  <tbody>\n",
              "    <tr>\n",
              "      <th>0</th>\n",
              "      <td>171152</td>\n",
              "      <td>7310172001</td>\n",
              "      <td>AJD41FBJD9010</td>\n",
              "      <td>N. Ferguson \"Two, Daisy, Hannah, and Kitten\"</td>\n",
              "      <td>0</td>\n",
              "      <td>0</td>\n",
              "      <td>5</td>\n",
              "      <td>1233360000</td>\n",
              "      <td>dogs LOVE it--  best treat for rewards and tra...</td>\n",
              "      <td>Freeze dried liver has a hypnotic effect on do...</td>\n",
              "    </tr>\n",
              "    <tr>\n",
              "      <th>1</th>\n",
              "      <td>171153</td>\n",
              "      <td>7310172001</td>\n",
              "      <td>AJD41FBJD9010</td>\n",
              "      <td>N. Ferguson \"Two, Daisy, Hannah, and Kitten\"</td>\n",
              "      <td>0</td>\n",
              "      <td>0</td>\n",
              "      <td>5</td>\n",
              "      <td>1233360000</td>\n",
              "      <td>best dog treat-- great for training---  all do...</td>\n",
              "      <td>Freeze dried liver has a hypnotic effect on do...</td>\n",
              "    </tr>\n",
              "    <tr>\n",
              "      <th>2</th>\n",
              "      <td>171154</td>\n",
              "      <td>7310172001</td>\n",
              "      <td>AJD41FBJD9010</td>\n",
              "      <td>N. Ferguson \"Two, Daisy, Hannah, and Kitten\"</td>\n",
              "      <td>0</td>\n",
              "      <td>0</td>\n",
              "      <td>5</td>\n",
              "      <td>1233360000</td>\n",
              "      <td>best dog treat-- great for training---  all do...</td>\n",
              "      <td>Freeze dried liver has a hypnotic effect on do...</td>\n",
              "    </tr>\n",
              "    <tr>\n",
              "      <th>3</th>\n",
              "      <td>171189</td>\n",
              "      <td>7310172001</td>\n",
              "      <td>AJD41FBJD9010</td>\n",
              "      <td>N. Ferguson \"Two, Daisy, Hannah, and Kitten\"</td>\n",
              "      <td>39</td>\n",
              "      <td>51</td>\n",
              "      <td>5</td>\n",
              "      <td>1233360000</td>\n",
              "      <td>NO waste at all ----  great for training  ----...</td>\n",
              "      <td>Freeze dried liver has a hypnotic effect on do...</td>\n",
              "    </tr>\n",
              "    <tr>\n",
              "      <th>4</th>\n",
              "      <td>171223</td>\n",
              "      <td>7310172001</td>\n",
              "      <td>AJD41FBJD9010</td>\n",
              "      <td>N. Ferguson \"Two, Daisy, Hannah, and Kitten\"</td>\n",
              "      <td>1</td>\n",
              "      <td>1</td>\n",
              "      <td>5</td>\n",
              "      <td>1233360000</td>\n",
              "      <td>best dog treat-- great for training---  all do...</td>\n",
              "      <td>Freeze dried liver has a hypnotic effect on do...</td>\n",
              "    </tr>\n",
              "    <tr>\n",
              "      <th>5</th>\n",
              "      <td>171228</td>\n",
              "      <td>7310172001</td>\n",
              "      <td>AJD41FBJD9010</td>\n",
              "      <td>N. Ferguson \"Two, Daisy, Hannah, and Kitten\"</td>\n",
              "      <td>5</td>\n",
              "      <td>7</td>\n",
              "      <td>5</td>\n",
              "      <td>1233360000</td>\n",
              "      <td>NO waste at all--- all dogs love liver treats-...</td>\n",
              "      <td>Freeze dried liver has a hypnotic effect on do...</td>\n",
              "    </tr>\n",
              "  </tbody>\n",
              "</table>\n",
              "</div>"
            ],
            "text/plain": [
              "       Id   ProductId         UserId  \\\n",
              "0  171152  7310172001  AJD41FBJD9010   \n",
              "1  171153  7310172001  AJD41FBJD9010   \n",
              "2  171154  7310172001  AJD41FBJD9010   \n",
              "3  171189  7310172001  AJD41FBJD9010   \n",
              "4  171223  7310172001  AJD41FBJD9010   \n",
              "5  171228  7310172001  AJD41FBJD9010   \n",
              "\n",
              "                                    ProfileName  HelpfulnessNumerator  \\\n",
              "0  N. Ferguson \"Two, Daisy, Hannah, and Kitten\"                     0   \n",
              "1  N. Ferguson \"Two, Daisy, Hannah, and Kitten\"                     0   \n",
              "2  N. Ferguson \"Two, Daisy, Hannah, and Kitten\"                     0   \n",
              "3  N. Ferguson \"Two, Daisy, Hannah, and Kitten\"                    39   \n",
              "4  N. Ferguson \"Two, Daisy, Hannah, and Kitten\"                     1   \n",
              "5  N. Ferguson \"Two, Daisy, Hannah, and Kitten\"                     5   \n",
              "\n",
              "   HelpfulnessDenominator  Score        Time  \\\n",
              "0                       0      5  1233360000   \n",
              "1                       0      5  1233360000   \n",
              "2                       0      5  1233360000   \n",
              "3                      51      5  1233360000   \n",
              "4                       1      5  1233360000   \n",
              "5                       7      5  1233360000   \n",
              "\n",
              "                                             Summary  \\\n",
              "0  dogs LOVE it--  best treat for rewards and tra...   \n",
              "1  best dog treat-- great for training---  all do...   \n",
              "2  best dog treat-- great for training---  all do...   \n",
              "3  NO waste at all ----  great for training  ----...   \n",
              "4  best dog treat-- great for training---  all do...   \n",
              "5  NO waste at all--- all dogs love liver treats-...   \n",
              "\n",
              "                                                Text  \n",
              "0  Freeze dried liver has a hypnotic effect on do...  \n",
              "1  Freeze dried liver has a hypnotic effect on do...  \n",
              "2  Freeze dried liver has a hypnotic effect on do...  \n",
              "3  Freeze dried liver has a hypnotic effect on do...  \n",
              "4  Freeze dried liver has a hypnotic effect on do...  \n",
              "5  Freeze dried liver has a hypnotic effect on do...  "
            ]
          },
          "metadata": {
            "tags": []
          },
          "execution_count": 29
        }
      ]
    },
    {
      "metadata": {
        "id": "yRqfiv-7E9YZ",
        "colab_type": "code",
        "colab": {
          "base_uri": "https://localhost:8080/",
          "height": 255
        },
        "outputId": "0484c3ce-12bd-4b12-d912-062c8300698a"
      },
      "cell_type": "code",
      "source": [
        "#Removing the Duplicate data points:\n",
        "\n",
        "duplicated_data = amazon_featured_reviews.duplicated(subset={'UserId','ProfileName','Time','Summary','Text'} , keep='first')\n",
        "duplicated_data = pd.DataFrame(duplicated_data , columns=['Boolean'])\n",
        "print(duplicated_data.head(5))\n",
        "\n",
        "#True values in the Boolean Series represents the duplicate data:\n",
        "print(duplicated_data['Boolean'].value_counts(dropna=False)) #gives me the total no of the duplicates\n",
        "\n",
        "#The total no of duplicates here in the amazon_featured_reviews are:\n",
        "print(\"total no of duplicates here in the amazon_featured_reviews are:\",duplicated_data[duplicated_data['Boolean']==True].count())\n",
        "\n",
        "#dropping the duplicates:\n",
        "final = amazon_featured_reviews.sort_values(by='ProductId',kind='quicksort',ascending=True,inplace=False)\n",
        "final = final.drop_duplicates(subset={'UserId','ProfileName','Time','Text'} , keep='first', inplace=False)\n",
        "print('\\n','DataFrame final shape before removing helpfullness data :', final.shape)\n",
        "\n",
        "#Also removing the instances where HelpfulnessNumerator >= HelpfulnessDenominator:\n",
        "final = final[final['HelpfulnessNumerator'] <= final['HelpfulnessDenominator']]\n",
        "print('final', final.shape)\n"
      ],
      "execution_count": 30,
      "outputs": [
        {
          "output_type": "stream",
          "text": [
            "   Boolean\n",
            "0    False\n",
            "1    False\n",
            "2    False\n",
            "3    False\n",
            "4    False\n",
            "False    365333\n",
            "True     160481\n",
            "Name: Boolean, dtype: int64\n",
            "total no of duplicates here in the amazon_featured_reviews are: Boolean    160481\n",
            "dtype: int64\n",
            "\n",
            " DataFrame final shape before removing helpfullness data : (364173, 10)\n",
            "final (364171, 10)\n"
          ],
          "name": "stdout"
        }
      ]
    },
    {
      "metadata": {
        "id": "vrZl-NN_E_fR",
        "colab_type": "code",
        "colab": {
          "base_uri": "https://localhost:8080/",
          "height": 68
        },
        "outputId": "8edd34c5-2449-4dfc-a3f1-25bd6c016a66"
      },
      "cell_type": "code",
      "source": [
        "#Finding the books data in the amazon_featured_reviews using the regex:\n",
        "import re\n",
        "print(final.columns)\n",
        "def analyzing_summary_book(filtered_data , regex):\n",
        "    \n",
        "    mask_summary = filtered_data.Summary.str.lower().str.contains(regex) \n",
        "    mask_text =    filtered_data.Text.str.lower().str.contains(regex)\n",
        "    print(len(filtered_data[mask_summary].index) , len(filtered_data[mask_text].index))\n",
        "    print('initial shape of the filtered_data' , filtered_data.shape)\n",
        "    filtered_data.drop(filtered_data[mask_summary].index , inplace=True , axis=0)\n",
        "    filtered_data.drop(filtered_data[mask_text].index , axis=0 , inplace=True)\n"
      ],
      "execution_count": 31,
      "outputs": [
        {
          "output_type": "stream",
          "text": [
            "Index(['Id', 'ProductId', 'UserId', 'ProfileName', 'HelpfulnessNumerator',\n",
            "       'HelpfulnessDenominator', 'Score', 'Time', 'Summary', 'Text'],\n",
            "      dtype='object')\n"
          ],
          "name": "stdout"
        }
      ]
    },
    {
      "metadata": {
        "id": "aTLPRKWdFBtY",
        "colab_type": "code",
        "colab": {
          "base_uri": "https://localhost:8080/",
          "height": 85
        },
        "outputId": "7077a114-b1d5-4237-fecd-3b5a6b76fa9f"
      },
      "cell_type": "code",
      "source": [
        "#Removing the Books reviews we get below final dataframe:\n",
        "#On observation of some of the reviews we got certain keywords related to books,reading ,poems , story,learn , study , music \n",
        "#So we removed these words as much as possible:\n",
        "\n",
        "\n",
        "print('final shape before removing books reviews:' , final.shape)\n",
        "analyzing_summary_book(final , re.compile(r'reading|books|book|read|study|learn|poems|music|story'))\n",
        "\n",
        "print('final shape after removing the book reviews:' , final.shape)"
      ],
      "execution_count": 32,
      "outputs": [
        {
          "output_type": "stream",
          "text": [
            "final shape before removing books reviews: (364171, 10)\n",
            "2842 36649\n",
            "initial shape of the filtered_data (364171, 10)\n",
            "final shape after removing the book reviews: (326808, 10)\n"
          ],
          "name": "stdout"
        }
      ]
    },
    {
      "metadata": {
        "id": "SSn25PGDFDYN",
        "colab_type": "code",
        "colab": {
          "base_uri": "https://localhost:8080/",
          "height": 68
        },
        "outputId": "015c00b7-9674-4108-9724-153b56e4c546"
      },
      "cell_type": "code",
      "source": [
        "#Computing the proportion of positive and negative class labels in the DataFrame:\n",
        "final['Score'].value_counts()"
      ],
      "execution_count": 33,
      "outputs": [
        {
          "output_type": "execute_result",
          "data": {
            "text/plain": [
              "positive    276668\n",
              "negative     50140\n",
              "Name: Score, dtype: int64"
            ]
          },
          "metadata": {
            "tags": []
          },
          "execution_count": 33
        }
      ]
    },
    {
      "metadata": {
        "id": "Q1j5zxFRFYa4",
        "colab_type": "code",
        "colab": {}
      },
      "cell_type": "code",
      "source": [
        "nltk.download('stopwords')"
      ],
      "execution_count": 0,
      "outputs": []
    },
    {
      "metadata": {
        "id": "zGquP-OTFFFm",
        "colab_type": "code",
        "colab": {
          "base_uri": "https://localhost:8080/",
          "height": 105
        },
        "outputId": "96fa0e4f-b7bf-4962-d59c-e71ff451a61a"
      },
      "cell_type": "code",
      "source": [
        "import nltk\n",
        "from nltk.stem import SnowballStemmer\n",
        "from nltk.corpus import stopwords\n",
        "from nltk.stem.wordnet import WordNetLemmatizer\n",
        "from nltk.stem import PorterStemmer\n",
        "\n",
        "stop = set(stopwords.words('english'))\n",
        "print(stop)\n",
        "print('\\n' , 'length of stopwords set' , len(stop))\n",
        "\n",
        "print(\"*\" * 30)\n",
        "\n",
        "sno = SnowballStemmer('english')"
      ],
      "execution_count": 38,
      "outputs": [
        {
          "output_type": "stream",
          "text": [
            "{'him', 'her', 'on', 'other', 'itself', 'had', \"mightn't\", 'in', 'from', \"should've\", 'were', 'because', 'how', 'mustn', 'been', 'he', 've', 'those', 'does', 'not', 're', 'off', \"she's\", \"isn't\", 'of', 'they', 'herself', 'yourself', 'don', \"couldn't\", 'then', 'all', 'above', 'you', 'again', 'here', \"shan't\", 'who', 'can', 'about', \"aren't\", 'over', \"weren't\", 'his', 'hasn', \"you've\", 'himself', 'just', 'o', 'mightn', 'these', 'there', 'nor', 'this', 'are', 'the', 'am', 'will', 'and', 'than', 'needn', 'she', 'me', 'yours', 'very', 'has', 'same', 'wasn', 'what', 'that', 'few', 'which', 'doesn', 'is', 'into', 'when', 'against', 'most', 'myself', 'isn', 's', 'll', \"mustn't\", \"that'll\", 'no', \"hadn't\", 'further', 'd', \"you'd\", 'be', \"doesn't\", 'each', 'now', \"haven't\", \"you'll\", 'we', 'only', \"wasn't\", \"you're\", 'for', 'at', 'as', 'or', 'do', 'didn', 'if', 'my', 'to', 'couldn', 'having', 'own', 'hadn', 'during', 'i', 'themselves', 'out', 'hers', 'won', \"hasn't\", 'any', 'after', 'between', 'too', 'shan', 'down', 'it', \"don't\", 'doing', 'such', 'did', 'your', 'should', 'where', 'being', 'wouldn', 'some', 'so', 'below', 'ain', 'until', 'a', 'whom', 'both', 'but', 'yourselves', 'was', 'once', 'ourselves', \"wouldn't\", 'more', 'y', \"needn't\", 'ma', 'them', 'their', 'theirs', 'an', 'through', 'under', 't', 'by', 'before', 'shouldn', 'ours', \"it's\", 'while', 'm', 'haven', 'weren', 'aren', 'our', 'its', \"didn't\", 'why', \"shouldn't\", \"won't\", 'have', 'with', 'up'}\n",
            "\n",
            " length of stopwords set 179\n",
            "******************************\n"
          ],
          "name": "stdout"
        }
      ]
    },
    {
      "metadata": {
        "id": "I-4yHHq5FHSA",
        "colab_type": "code",
        "colab": {}
      },
      "cell_type": "code",
      "source": [
        "# Functions to clean the html tags and punctuation marks using Regular Expression.\n",
        "\n",
        "def clean_htmlTags(sentence):\n",
        "    pattern = re.compile('<.*?>')\n",
        "    cleaned_text = re.sub(pattern , '' , sentence)\n",
        "    return cleaned_text\n",
        "\n",
        "def clean_punc(sentence):\n",
        "    cleaned = re.sub(r'[!|#|,|?|\\'|\"]' , r' ' , sentence)\n",
        "    cleaned = re.sub(r'[.|,|)|(|\\|/]' ,r' ' , cleaned)\n",
        "    return cleaned\n"
      ],
      "execution_count": 0,
      "outputs": []
    },
    {
      "metadata": {
        "id": "zUpFTDDQFbWD",
        "colab_type": "code",
        "colab": {}
      },
      "cell_type": "code",
      "source": [
        "#The below code will remove all the html tags , punctuation marks , uppercase to lowercase conversion only if length of the words\n",
        "# are greater than 2 and are alphanumeric . Further we perform the Stemming of the each word in the each document.\n",
        "\n",
        "all_positive_words = []\n",
        "all_negative_words = []\n",
        "i = 0\n",
        "str_temp = ' '\n",
        "final_string = []\n",
        "for sent in final['Text'].values:\n",
        "    filtered_sentence=[]\n",
        "    sent = clean_htmlTags(sent)\n",
        "    for w in sent.split():\n",
        "        for clean_word in clean_punc(w).split():\n",
        "            if((clean_word.isalpha()) and (len(clean_word) > 2)):\n",
        "                if(clean_word.lower() not in stop):\n",
        "                    s = (sno.stem(clean_word.lower())).encode('utf-8')\n",
        "                    filtered_sentence.append(s)\n",
        "                    if((final['Score'].values)[i] == 'positive'):\n",
        "                        all_positive_words.append(s)\n",
        "                    if((final['Score'].values)[i] == 'negative'):\n",
        "                        all_negative_words.append(s)\n",
        "                else:\n",
        "                    continue\n",
        "            else:\n",
        "                continue\n",
        "\n",
        "    str_temp = b\" \".join(filtered_sentence)\n",
        "    final_string.append(str_temp)\n",
        "    i+=1"
      ],
      "execution_count": 0,
      "outputs": []
    },
    {
      "metadata": {
        "id": "xusAJOzvFdxa",
        "colab_type": "code",
        "colab": {
          "base_uri": "https://localhost:8080/",
          "height": 34
        },
        "outputId": "792dc333-1091-43a1-a5f4-e4ecf0fd2e44"
      },
      "cell_type": "code",
      "source": [
        "#Now I have a final_string of list of each review and append it to the new columns of the final data frame:\n",
        "\n",
        "final['CleanedText'] = final_string\n",
        "final['CleanedText'] = final['CleanedText'].str.decode('utf-8')\n",
        "final.shape\n"
      ],
      "execution_count": 41,
      "outputs": [
        {
          "output_type": "execute_result",
          "data": {
            "text/plain": [
              "(326808, 11)"
            ]
          },
          "metadata": {
            "tags": []
          },
          "execution_count": 41
        }
      ]
    },
    {
      "metadata": {
        "id": "9uEWnUziFfjo",
        "colab_type": "code",
        "colab": {
          "base_uri": "https://localhost:8080/",
          "height": 34
        },
        "outputId": "48993558-d0a4-4109-a287-964104c57ec6"
      },
      "cell_type": "code",
      "source": [
        "#Now lets take roughly same proportion of  each of positive and negative review from the data set for faster processing \n",
        "#the further data:\n",
        "#We can process our next tasks with whole amount of the data but we are bounded with time and memory spaces so we have used\n",
        "# used only roughly 10K points.\n",
        "\n",
        "# To randomly sample 10k points from both class\n",
        "\n",
        "positive = final[final[\"Score\"] == \"positive\"].sample(n = 10000)\n",
        "negative = final[final[\"Score\"] == \"negative\"].sample(n = 10000)\n",
        "final_cleaned = final\n",
        "final = pd.concat([positive , negative])\n",
        "final.shape"
      ],
      "execution_count": 43,
      "outputs": [
        {
          "output_type": "execute_result",
          "data": {
            "text/plain": [
              "(20000, 11)"
            ]
          },
          "metadata": {
            "tags": []
          },
          "execution_count": 43
        }
      ]
    },
    {
      "metadata": {
        "id": "-2LXJ7srFhDU",
        "colab_type": "code",
        "colab": {}
      },
      "cell_type": "code",
      "source": [
        "#Sort the final data frame by timestamp values:\n",
        "final['Time'] = pd.to_datetime(final['Time'],unit='s')\n",
        "final = final.sort_values(by='Time')\n"
      ],
      "execution_count": 0,
      "outputs": []
    },
    {
      "metadata": {
        "id": "anQs1ZVuG01J",
        "colab_type": "code",
        "colab": {}
      },
      "cell_type": "code",
      "source": [
        "#Now we will compute the K-NN using the Brute Force and kd_tree algorithms:\n",
        "#According to the assignment requirement we have to use k-fold cross validation techinque to find the optimal value of K.\n",
        "\n",
        "def knn(X_train , y_train , algo):\n",
        "    \n",
        "    #creating the odd list of nearest neighbors values:\n",
        "    mylist = range(0,50)\n",
        "    neighbors = list(filter(lambda x : x%2 !=0 , mylist))\n",
        "    cv_scores=[]\n",
        "    #Computing the average scores for the each value of k:\n",
        "    for k in neighbors:\n",
        "        classifier = KNeighborsClassifier(n_neighbors=k , algorithm=algo)\n",
        "        \n",
        "        #getting the list of the scores  for each k-fold for each value of K.\n",
        "        scores = cross_val_score(classifier , X_train , y_train ,cv = 10, scoring='accuracy')\n",
        "        cv_scores.append(scores.mean())\n",
        "        \n",
        "        # Misclassification error computation:\n",
        "        \n",
        "    MSE = [1-x for x in cv_scores]\n",
        "        \n",
        "    optimal_k = neighbors[MSE.index(min(MSE))]\n",
        "    print('\\n Optimal value among the all values of K = %d' %optimal_k)\n",
        "    \n",
        "        \n",
        "    #Calculating the accuracy of the knn over the train data set:\n",
        "    knn_optimal = KNeighborsClassifier(n_neighbors=optimal_k)\n",
        "\n",
        "    # fitting the model\n",
        "    knn_optimal.fit(X_train, y_train)\n",
        "\n",
        "    # predict the response\n",
        "    pred = knn_optimal.predict(X_train)\n",
        "\n",
        "    # evaluate accuracy\n",
        "    acc = accuracy_score(y_train, pred) * 100\n",
        "    print('\\nThe accuracy of the knn classifier on Train Data Set for k = %d is %f%%' % (optimal_k, acc))\n",
        "    print('\\n The Trainning error rate is %d%%:' %(1-acc)*100)\n",
        "    \n",
        "    #Plotting the misclassification error and the corresponding K-vaule:\n",
        "    # We will consider that K value which has low error\n",
        "    plt.figure(figsize=(7,7))\n",
        "    plt.plot(neighbors , MSE)\n",
        "    \n",
        "    for xy in zip(neighbors , np.round(MSE , 3)):\n",
        "               plt.annotate('(%s,%s)' % xy , xy=xy ,textcoords='data')\n",
        "    plt.title('Mis-classfication error Vs K value')\n",
        "    plt.xlabel('K values')\n",
        "    plt.ylabel('misclassification error')\n",
        "    plt.show()\n",
        "    \n",
        "    print(\"the misclassification error for each k value is : \", np.round(MSE,3))\n",
        "    return optimal_k\n",
        "               \n",
        "    \n",
        "        "
      ],
      "execution_count": 0,
      "outputs": []
    },
    {
      "metadata": {
        "id": "OAGUJGUhLNID",
        "colab_type": "code",
        "colab": {}
      },
      "cell_type": "code",
      "source": [
        "# ============================== KNN with k = optimal_k ===============================================\n",
        "# instantiate learning model k = optimal_k\n",
        "#Test the optimal value of K to predict the new query point from the X_test:\n",
        "def knn_optimal(X_train , y_train , X_test , neighbor_value):\n",
        "\n",
        "  knn_optimal = KNeighborsClassifier(n_neighbors=neighbor_value)\n",
        "\n",
        "  # fitting the model\n",
        "  knn_optimal.fit(X_train, y_train)\n",
        "\n",
        "  # predict the response\n",
        "  pred = knn_optimal.predict(X_test)\n",
        "\n",
        "  # evaluate accuracy\n",
        "  acc = accuracy_score(y_test, pred) * 100\n",
        "  print('\\nThe accuracy of the knn classifier on Test Data for k = %d is %f%%' % (optimal_k, acc))"
      ],
      "execution_count": 0,
      "outputs": []
    },
    {
      "metadata": {
        "id": "thLOxUWZG4AF",
        "colab_type": "code",
        "colab": {
          "base_uri": "https://localhost:8080/",
          "height": 34
        },
        "outputId": "cede20fa-b5b1-41e9-f184-609013d71de7"
      },
      "cell_type": "code",
      "source": [
        "# Creating the training data :\n",
        "X = final['CleanedText']\n",
        "y = final['Score']\n",
        "print(X.shape , y.shape)\n"
      ],
      "execution_count": 81,
      "outputs": [
        {
          "output_type": "stream",
          "text": [
            "(20000,) (20000,)\n"
          ],
          "name": "stdout"
        }
      ]
    },
    {
      "metadata": {
        "id": "OBdIbasLG7Bp",
        "colab_type": "code",
        "colab": {
          "base_uri": "https://localhost:8080/",
          "height": 34
        },
        "outputId": "c917d1fe-b8b2-4b82-8a41-2b069e5be744"
      },
      "cell_type": "code",
      "source": [
        "#Now we will split our train and test data and convert them to the Bag of words vector:\n",
        "X_train, X_test , y_train , y_test = train_test_split(X , y , test_size=0.3 , random_state=55)\n",
        "print(X_train.shape , y_train.shape , X_test.shape , y_test.shape)\n"
      ],
      "execution_count": 82,
      "outputs": [
        {
          "output_type": "stream",
          "text": [
            "(14000,) (14000,) (6000,) (6000,)\n"
          ],
          "name": "stdout"
        }
      ]
    },
    {
      "metadata": {
        "id": "q4sLgd7UG9R7",
        "colab_type": "code",
        "colab": {
          "base_uri": "https://localhost:8080/",
          "height": 51
        },
        "outputId": "8b6ed0de-4d94-4f3e-f23c-d1faa9416cde"
      },
      "cell_type": "code",
      "source": [
        "# Computing the Train Vectorizer :\n",
        "count_vect = CountVectorizer()\n",
        "X_train_bow = count_vect.fit_transform(X_train)\n",
        "print(X_train_bow.shape)\n",
        "\n",
        "# Computing the Test Vectorizer:\n",
        "X_test_bow = count_vect.transform(X_test)\n",
        "print(X_test_bow.shape)\n"
      ],
      "execution_count": 86,
      "outputs": [
        {
          "output_type": "stream",
          "text": [
            "(14000, 15320)\n",
            "(6000, 15320)\n"
          ],
          "name": "stdout"
        }
      ]
    },
    {
      "metadata": {
        "id": "ql7CcDSuHRcQ",
        "colab_type": "code",
        "colab": {
          "base_uri": "https://localhost:8080/",
          "height": 576
        },
        "outputId": "1d0b7ee0-e5db-443a-cbbd-faac2882972f"
      },
      "cell_type": "code",
      "source": [
        "#Optimal value for K-NN:\n",
        "optimal_k_brute = knn(X_train_bow, y_train , 'brute')\n",
        "knn_optimal(X_train_bow , y_train ,X_test_bow ,  optimal_k_brute)"
      ],
      "execution_count": 87,
      "outputs": [
        {
          "output_type": "stream",
          "text": [
            "\n",
            " Optimal value among the all values of K = 49\n"
          ],
          "name": "stdout"
        },
        {
          "output_type": "display_data",
          "data": {
            "image/png": "[encoded data removed]",
            "text/plain": [
              "<matplotlib.figure.Figure at 0x7f6c46bee128>"
            ]
          },
          "metadata": {
            "tags": []
          }
        },
        {
          "output_type": "stream",
          "text": [
            "the misclassification error for each k value is :  [0.372 0.347 0.334 0.323 0.314 0.308 0.308 0.308 0.304 0.303 0.302 0.302\n",
            " 0.3   0.299 0.297 0.297 0.296 0.294 0.292 0.291 0.291 0.288 0.288 0.287\n",
            " 0.285]\n",
            "\n",
            "The accuracy of the knn classifier for k = 49 is 70.750000%\n"
          ],
          "name": "stdout"
        }
      ]
    },
    {
      "metadata": {
        "id": "ah7hTCJbKywY",
        "colab_type": "code",
        "colab": {
          "base_uri": "https://localhost:8080/",
          "height": 576
        },
        "outputId": "d481b208-d247-4523-b227-10a116441568"
      },
      "cell_type": "code",
      "source": [
        "#Computing the optimal_k value using the kd_tree:\n",
        "optimal_k_kd_tree = knn(X_train , y_train , 'kd_tree')\n",
        "knn_optimal(X_train , y_train , X_test_bow , optimal_k_kd_tree)"
      ],
      "execution_count": 70,
      "outputs": [
        {
          "output_type": "stream",
          "text": [
            "\n",
            " Optimal value among the all values of K = 49\n"
          ],
          "name": "stdout"
        },
        {
          "output_type": "display_data",
          "data": {
            "image/png": "[encoded data removed]",
            "text/plain": [
              "<matplotlib.figure.Figure at 0x7f6c49852160>"
            ]
          },
          "metadata": {
            "tags": []
          }
        },
        {
          "output_type": "stream",
          "text": [
            "the misclassification error for each k value is :  [0.372 0.347 0.334 0.323 0.314 0.308 0.308 0.308 0.304 0.303 0.302 0.302\n",
            " 0.3   0.299 0.297 0.297 0.296 0.294 0.292 0.291 0.291 0.288 0.288 0.287\n",
            " 0.285]\n",
            "\n",
            "The accuracy of the knn classifier for k = 49 is 70.750000%\n"
          ],
          "name": "stdout"
        }
      ]
    },
    {
      "metadata": {
        "id": "WVnL_RfZItJP",
        "colab_type": "code",
        "colab": {
          "base_uri": "https://localhost:8080/",
          "height": 34
        },
        "outputId": "4fff4746-437c-4131-d608-fad726caa6d9"
      },
      "cell_type": "code",
      "source": [
        "#Now we will split our train and test data and convert them to the TF - idf  vector:\n",
        "X_train, X_test , y_train , y_test = train_test_split(X , y , test_size=0.3 , random_state=55)\n",
        "print(X_train.shape , y_train.shape , X_test.shape , y_test.shape)"
      ],
      "execution_count": 95,
      "outputs": [
        {
          "output_type": "stream",
          "text": [
            "(14000,) (14000,) (6000,) (6000,)\n"
          ],
          "name": "stdout"
        }
      ]
    },
    {
      "metadata": {
        "id": "tGq7lKu_Re0s",
        "colab_type": "text"
      },
      "cell_type": "markdown",
      "source": [
        "**KNN for TFIDF Vector: **"
      ]
    },
    {
      "metadata": {
        "id": "GBoTpo0tRkK6",
        "colab_type": "code",
        "colab": {
          "base_uri": "https://localhost:8080/",
          "height": 51
        },
        "outputId": "526f3036-b0f6-49d2-cd71-39161a490f66"
      },
      "cell_type": "code",
      "source": [
        "#Uni Gram  Train dataset Tf-IDF Vector:\n",
        "tfidf_vector = TfidfVectorizer(ngram_range=(1,1) , min_df=5 )\n",
        "X_train_tfidf= tfidf_vector.fit_transform(X_train)\n",
        "\n",
        "print('X_train_tfidf.get_shape() : ' , X_train_tfidf.get_shape())\n",
        "\n",
        "\n",
        "# Uni Gram Test dataset Tf-IDF Vectorizer:\n",
        "X_test_tfidf= tfidf_vector.transform(X_test)\n",
        "\n",
        "print('X_test_tfidf.get_shape():' , X_test_tfidf.shape)\n",
        "\n",
        "\n"
      ],
      "execution_count": 96,
      "outputs": [
        {
          "output_type": "stream",
          "text": [
            "X_train_tfidf.get_shape() :  (14000, 4703)\n",
            "X_test_tfidf.get_shape(): (6000, 4703)\n"
          ],
          "name": "stdout"
        }
      ]
    },
    {
      "metadata": {
        "id": "C2Z8p3L9UOhN",
        "colab_type": "code",
        "colab": {
          "base_uri": "https://localhost:8080/",
          "height": 576
        },
        "outputId": "973dfd6a-1048-4f08-95ef-6ca158d50c50"
      },
      "cell_type": "code",
      "source": [
        "#Optimal value for Brute Force K-NN:\n",
        "optimal_k_brute = knn(X_train_tfidf, y_train , 'brute')\n",
        "\n",
        "knn_optimal(X_train_tfidf , y_train ,X_test_tfidf ,  optimal_k_brute)"
      ],
      "execution_count": 98,
      "outputs": [
        {
          "output_type": "stream",
          "text": [
            "\n",
            " Optimal value among the all values of K = 47\n"
          ],
          "name": "stdout"
        },
        {
          "output_type": "display_data",
          "data": {
            "image/png": "[encoded data removed]",
            "text/plain": [
              "<matplotlib.figure.Figure at 0x7f6c4696db70>"
            ]
          },
          "metadata": {
            "tags": []
          }
        },
        {
          "output_type": "stream",
          "text": [
            "the misclassification error for each k value is :  [0.373 0.34  0.323 0.311 0.305 0.299 0.29  0.29  0.285 0.28  0.277 0.275\n",
            " 0.27  0.267 0.264 0.262 0.258 0.257 0.255 0.254 0.253 0.248 0.249 0.248\n",
            " 0.248]\n",
            "\n",
            "The accuracy of the knn classifier for k = 49 is 75.616667%\n"
          ],
          "name": "stdout"
        }
      ]
    },
    {
      "metadata": {
        "id": "WF66aTobUT0z",
        "colab_type": "code",
        "colab": {
          "base_uri": "https://localhost:8080/",
          "height": 576
        },
        "outputId": "3035d820-1557-44c5-ef53-fc1f2553417e"
      },
      "cell_type": "code",
      "source": [
        "#Optimal value for KD_tree K-NN:\n",
        "optimal_k_kd_tree = knn(X_train_tfidf, y_train , 'kd_tree')\n",
        "\n",
        "knn_optimal(X_train_tfidf , y_train ,X_test_tfidf ,optimal_k_kd_tree)"
      ],
      "execution_count": 99,
      "outputs": [
        {
          "output_type": "stream",
          "text": [
            "\n",
            " Optimal value among the all values of K = 47\n"
          ],
          "name": "stdout"
        },
        {
          "output_type": "display_data",
          "data": {
            "image/png": "[encoded data removed]",
            "text/plain": [
              "<matplotlib.figure.Figure at 0x7f6c468fb898>"
            ]
          },
          "metadata": {
            "tags": []
          }
        },
        {
          "output_type": "stream",
          "text": [
            "the misclassification error for each k value is :  [0.373 0.34  0.323 0.311 0.305 0.299 0.29  0.29  0.285 0.28  0.277 0.275\n",
            " 0.27  0.267 0.264 0.262 0.258 0.257 0.255 0.254 0.253 0.248 0.249 0.248\n",
            " 0.248]\n",
            "\n",
            "The accuracy of the knn classifier for k = 49 is 75.616667%\n"
          ],
          "name": "stdout"
        }
      ]
    },
    {
      "metadata": {
        "id": "GxG3LL9jUc7z",
        "colab_type": "code",
        "colab": {
          "base_uri": "https://localhost:8080/",
          "height": 54
        },
        "outputId": "1a035425-8212-4ac1-da3c-d1f9fb96ac1b"
      },
      "cell_type": "code",
      "source": [
        "# Lets compute a list of list of words for Train Data to compute the wrod2vec:\n",
        "# Now we will Train our own model using Word2vec:\n",
        "list_of_sentence_train=[]\n",
        "for sent in X_train:\n",
        "    list_of_sentence_train.append(sent.split())\n",
        "\n",
        "print(list_of_sentence_train[0])\n",
        "\n",
        "\n"
      ],
      "execution_count": 102,
      "outputs": [
        {
          "output_type": "stream",
          "text": [
            "['tri', 'sampl', 'like', 'sever', 'howev', 'tri', 'caribou', 'sale', 'elsewher', 'decid', 'full', 'bodi', 'other', 'smoother', 'order', 'four', 'pack', 'amazon']\n"
          ],
          "name": "stdout"
        }
      ]
    },
    {
      "metadata": {
        "id": "4SyQJJycVQ6O",
        "colab_type": "code",
        "colab": {}
      },
      "cell_type": "code",
      "source": [
        "# Creating the gensim model\n",
        "import gensim\n",
        "model = gensim.models.Word2Vec(list_of_sentence_train , min_count=5 , size=50 , workers=4)\n",
        "vocab_list = list(model.wv.vocab)"
      ],
      "execution_count": 0,
      "outputs": []
    },
    {
      "metadata": {
        "id": "POuXMcOfb3Co",
        "colab_type": "code",
        "colab": {
          "base_uri": "https://localhost:8080/",
          "height": 54
        },
        "outputId": "03df2738-2895-4bb4-dd01-cbaddf3f0235"
      },
      "cell_type": "code",
      "source": [
        "# Lets compute a list of list of words for Train Data to compute the wrod2vec:\n",
        "# Now we will Train our own model using Word2vec:\n",
        "list_of_sentence_test=[]\n",
        "for sent in X_test:\n",
        "    list_of_sentence_test.append(sent.split())\n",
        "\n",
        "print(list_of_sentence_test[0])\n"
      ],
      "execution_count": 110,
      "outputs": [
        {
          "output_type": "stream",
          "text": [
            "['pickl', 'amaz', 'tri', 'unremark', 'flavor', 'back', 'retail', 'manufactur', 'brand', 'pickl', 'noth', 'come', 'close', 'pickl', 'definit', 'repeat', 'custom']\n"
          ],
          "name": "stdout"
        }
      ]
    },
    {
      "metadata": {
        "id": "q5F5kD1tUi8Q",
        "colab_type": "text"
      },
      "cell_type": "markdown",
      "source": [
        "**AVG Word2Vec**"
      ]
    },
    {
      "metadata": {
        "id": "h6Pv_OSfUmLz",
        "colab_type": "code",
        "colab": {
          "base_uri": "https://localhost:8080/",
          "height": 68
        },
        "outputId": "390b1ed0-1c5c-492b-a4eb-b89a7cd361ff"
      },
      "cell_type": "code",
      "source": [
        "#Computing the Average word2vec for Train Data:\n",
        "sent_vect_train= [] #this will hold the all values of the vectors of each words\n",
        "for sen in tqdm(list_of_sentence_train):\n",
        "    sen_vec = np.zeros(50) \n",
        "    word_count=0\n",
        "    for word in sen:\n",
        "        if word in vocab_list:\n",
        "            vector_of_current_word = model.wv[word]\n",
        "            sen_vec+=vector_of_current_word\n",
        "            word_count+=1\n",
        "    if word_count != 0:\n",
        "        sen_vec/=word_count\n",
        "    sent_vect_train.append(sen_vec)\n",
        "\n",
        "print(len(sent_vect_train))\n",
        "\n",
        "print(len(sent_vect_train[0]))\n",
        "        "
      ],
      "execution_count": 111,
      "outputs": [
        {
          "output_type": "stream",
          "text": [
            "100%|██████████| 14000/14000 [00:10<00:00, 1295.44it/s]"
          ],
          "name": "stderr"
        },
        {
          "output_type": "stream",
          "text": [
            "14000\n",
            "50\n"
          ],
          "name": "stdout"
        },
        {
          "output_type": "stream",
          "text": [
            "\n"
          ],
          "name": "stderr"
        }
      ]
    },
    {
      "metadata": {
        "id": "2vtWEK3Nf_3m",
        "colab_type": "code",
        "colab": {}
      },
      "cell_type": "code",
      "source": [
        "# Creating the gensim model\n",
        "import gensim\n",
        "model = gensim.models.Word2Vec(list_of_sentence_test , min_count=5 , size=50 , workers=4)\n",
        "vocab_list = list(model.wv.vocab)"
      ],
      "execution_count": 0,
      "outputs": []
    },
    {
      "metadata": {
        "id": "a0G89NOHcKd6",
        "colab_type": "code",
        "colab": {
          "base_uri": "https://localhost:8080/",
          "height": 68
        },
        "outputId": "40227402-ae2b-4df1-e887-48cdc4908e63"
      },
      "cell_type": "code",
      "source": [
        "#Computing the Average word2vec for Test  Data:\n",
        "sent_vect_test= [] #this will hold the all values of the vectors of each words\n",
        "for sen in tqdm(list_of_sentence_test):\n",
        "    sen_vec = np.zeros(50) \n",
        "    word_count=0\n",
        "    for word in sen:\n",
        "        if word in vocab_list:\n",
        "            vector_of_current_word = model.wv[word]\n",
        "            sen_vec+=vector_of_current_word\n",
        "            word_count+=1\n",
        "    if word_count != 0:\n",
        "        sen_vec/=word_count\n",
        "    sent_vect_test.append(sen_vec)\n",
        "\n",
        "print(len(sent_vect_test))\n",
        "\n",
        "print(len(sent_vect_test[0]))\n",
        "        "
      ],
      "execution_count": 116,
      "outputs": [
        {
          "output_type": "stream",
          "text": [
            "100%|██████████| 6000/6000 [00:03<00:00, 1514.85it/s]"
          ],
          "name": "stderr"
        },
        {
          "output_type": "stream",
          "text": [
            "6000\n",
            "50\n"
          ],
          "name": "stdout"
        },
        {
          "output_type": "stream",
          "text": [
            "\n"
          ],
          "name": "stderr"
        }
      ]
    },
    {
      "metadata": {
        "id": "ybMjw40Zg0IK",
        "colab_type": "code",
        "colab": {
          "base_uri": "https://localhost:8080/",
          "height": 576
        },
        "outputId": "196db3b1-0f88-4051-f15a-16d772fa4fe9"
      },
      "cell_type": "code",
      "source": [
        "#Optimal value for KD_tree K-NN:\n",
        "optimal_k_brute = knn(sent_vect_train, y_train , 'brute')\n",
        "\n",
        "knn_optimal(sent_vect_train , y_train ,sent_vect_test ,optimal_k_brute)"
      ],
      "execution_count": 118,
      "outputs": [
        {
          "output_type": "stream",
          "text": [
            "\n",
            " Optimal value among the all values of K = 49\n"
          ],
          "name": "stdout"
        },
        {
          "output_type": "display_data",
          "data": {
            "image/png": "[encoded data removed]",
            "text/plain": [
              "<matplotlib.figure.Figure at 0x7f6c46a50518>"
            ]
          },
          "metadata": {
            "tags": []
          }
        },
        {
          "output_type": "stream",
          "text": [
            "the misclassification error for each k value is :  [0.299 0.259 0.247 0.242 0.24  0.236 0.232 0.228 0.226 0.225 0.225 0.224\n",
            " 0.225 0.222 0.222 0.223 0.223 0.223 0.223 0.22  0.22  0.22  0.22  0.22\n",
            " 0.218]\n",
            "\n",
            "The accuracy of the knn classifier on Test Data for k = 49 is 51.233333%\n"
          ],
          "name": "stdout"
        }
      ]
    },
    {
      "metadata": {
        "id": "CS_Jr-u-c0Ts",
        "colab_type": "code",
        "colab": {
          "base_uri": "https://localhost:8080/",
          "height": 576
        },
        "outputId": "48a86054-1c95-4799-8b4d-b7ac6994c595"
      },
      "cell_type": "code",
      "source": [
        "#Optimal value for KD_tree K-NN:\n",
        "optimal_k_kd_tree = knn(sent_vect_train, y_train , 'kd_tree')\n",
        "\n",
        "knn_optimal(sent_vect_train , y_train ,sent_vect_test ,optimal_k_kd_tree)"
      ],
      "execution_count": 117,
      "outputs": [
        {
          "output_type": "stream",
          "text": [
            "\n",
            " Optimal value among the all values of K = 49\n"
          ],
          "name": "stdout"
        },
        {
          "output_type": "display_data",
          "data": {
            "image/png": "[encoded data removed]",
            "text/plain": [
              "<matplotlib.figure.Figure at 0x7f6c4209a080>"
            ]
          },
          "metadata": {
            "tags": []
          }
        },
        {
          "output_type": "stream",
          "text": [
            "the misclassification error for each k value is :  [0.299 0.259 0.247 0.242 0.24  0.236 0.232 0.228 0.226 0.225 0.225 0.224\n",
            " 0.225 0.222 0.222 0.223 0.223 0.223 0.223 0.22  0.22  0.22  0.22  0.22\n",
            " 0.218]\n",
            "\n",
            "The accuracy of the knn classifier on Test Data for k = 49 is 51.233333%\n"
          ],
          "name": "stdout"
        }
      ]
    },
    {
      "metadata": {
        "id": "IPTnn6KqdLAD",
        "colab_type": "text"
      },
      "cell_type": "markdown",
      "source": [
        "**K-NN for TFIDF Word2Vec**"
      ]
    },
    {
      "metadata": {
        "id": "FlOC_MigdKPz",
        "colab_type": "code",
        "colab": {}
      },
      "cell_type": "code",
      "source": [
        "#Computing the TF-idf values for the Train Data:\n",
        "tfidf_model = TfidfVectorizer()\n",
        "tf_idf_matrix = tfidf_model.fit_transform(X_train)\n",
        "# we are converting a dictionary with word as a key, and the tfidf as a value\n",
        "dictionary = dict(zip(tfidf_model.get_feature_names(), list(tfidf_model.idf_)))"
      ],
      "execution_count": 0,
      "outputs": []
    },
    {
      "metadata": {
        "id": "93rMdsK1dKAk",
        "colab_type": "code",
        "colab": {}
      },
      "cell_type": "code",
      "source": [
        "# Creating the gensim model\n",
        "model = gensim.models.Word2Vec(list_of_sentence_train , min_count=5 , size=50 , workers=4)\n",
        "vocab_list = list(model.wv.vocab)"
      ],
      "execution_count": 0,
      "outputs": []
    },
    {
      "metadata": {
        "id": "K8iCeQ_ydJ3i",
        "colab_type": "code",
        "colab": {
          "base_uri": "https://localhost:8080/",
          "height": 85
        },
        "outputId": "1c211c2f-635e-4a05-f875-59623273811b"
      },
      "cell_type": "code",
      "source": [
        "# TF-IDF weighted Word2Vec\n",
        "tfidf_feat = tfidf_model.get_feature_names() # tfidf words/col-names\n",
        "# final_tf_idf is the sparse matrix with row= sentence, col=word and cell_val = tfidf\n",
        "\n",
        "tfidf_sent_vectors_train = []; # the tfidf-w2v for each sentence/review is stored in this list\n",
        "row=0;\n",
        "for sent in tqdm(list_of_sentence_train): # for each review/sentence \n",
        "    sent_vec = np.zeros(50) # as word vectors are of zero length\n",
        "    weight_sum =0; # num of words with a valid vector in the sentence/review\n",
        "    for word in sent: # for each word in a review/sentence\n",
        "        if word in vocab_list:\n",
        "            vec = model.wv[word]\n",
        "            tf_idf = dictionary[word]*sent.count(word)\n",
        "            sent_vec += (vec * tf_idf)\n",
        "            weight_sum += tf_idf\n",
        "    if weight_sum != 0:\n",
        "        sent_vec /= weight_sum\n",
        "    tfidf_sent_vectors_train.append(sent_vec)\n",
        "    row += 1\n",
        "    \n",
        "print('\\n' , len(tfidf_sent_vectors_train))\n",
        "\n",
        "print(len(tfidf_sent_vectors_train[0]))"
      ],
      "execution_count": 121,
      "outputs": [
        {
          "output_type": "stream",
          "text": [
            "100%|██████████| 14000/14000 [00:17<00:00, 796.90it/s]"
          ],
          "name": "stderr"
        },
        {
          "output_type": "stream",
          "text": [
            "\n",
            " 14000\n",
            "50\n"
          ],
          "name": "stdout"
        },
        {
          "output_type": "stream",
          "text": [
            "\n"
          ],
          "name": "stderr"
        }
      ]
    },
    {
      "metadata": {
        "id": "MYaGZZS1eZj9",
        "colab_type": "code",
        "colab": {}
      },
      "cell_type": "code",
      "source": [
        "#Computing the tf-idf values for the Test Data :\n",
        "\n",
        "tfidf_model = TfidfVectorizer()\n",
        "tf_idf_matrix = tfidf_model.fit_transform(X_train)\n",
        "# we are converting a dictionary with word as a key, and the tfidf as a value\n",
        "dictionary = dict(zip(tfidf_model.get_feature_names(), list(tfidf_model.idf_)))"
      ],
      "execution_count": 0,
      "outputs": []
    },
    {
      "metadata": {
        "id": "vSPhDesyennv",
        "colab_type": "code",
        "colab": {}
      },
      "cell_type": "code",
      "source": [
        "# Creating the gensim model\n",
        "model = gensim.models.Word2Vec(list_of_sentence_train , min_count=5 , size=50 , workers=4)\n",
        "vocab_list=list(model.wv.vocab)"
      ],
      "execution_count": 0,
      "outputs": []
    },
    {
      "metadata": {
        "id": "YDyN63EZewHD",
        "colab_type": "code",
        "colab": {
          "base_uri": "https://localhost:8080/",
          "height": 85
        },
        "outputId": "f8284276-2f91-48a0-d302-927da2df10f0"
      },
      "cell_type": "code",
      "source": [
        "# TF-IDF weighted Word2Vec for Test Data:\n",
        "tfidf_feat = tfidf_model.get_feature_names() # tfidf words/col-names\n",
        "# final_tf_idf is the sparse matrix with row= sentence, col=word and cell_val = tfidf\n",
        "\n",
        "tfidf_sent_vectors_test = []; # the tfidf-w2v for each sentence/review is stored in this list\n",
        "row=0;\n",
        "for sent in tqdm(list_of_sentence_test): # for each review/sentence \n",
        "    sent_vec = np.zeros(50) # as word vectors are of zero length\n",
        "    weight_sum =0; # num of words with a valid vector in the sentence/review\n",
        "    for word in sent: # for each word in a review/sentence\n",
        "        if word in vocab_list:\n",
        "            vec = model.wv[word]\n",
        "            tf_idf = dictionary[word]*sent.count(word)\n",
        "            sent_vec += (vec * tf_idf)\n",
        "            weight_sum += tf_idf\n",
        "    if weight_sum != 0:\n",
        "        sent_vec /= weight_sum\n",
        "    tfidf_sent_vectors_test.append(sent_vec)\n",
        "    row += 1\n",
        "    \n",
        "print('\\n' , len(tfidf_sent_vectors_test))\n",
        "\n",
        "print(len(tfidf_sent_vectors_test[0]))"
      ],
      "execution_count": 124,
      "outputs": [
        {
          "output_type": "stream",
          "text": [
            "100%|██████████| 6000/6000 [00:05<00:00, 1031.87it/s]"
          ],
          "name": "stderr"
        },
        {
          "output_type": "stream",
          "text": [
            "\n",
            " 6000\n",
            "50\n"
          ],
          "name": "stdout"
        },
        {
          "output_type": "stream",
          "text": [
            "\n"
          ],
          "name": "stderr"
        }
      ]
    },
    {
      "metadata": {
        "id": "sqronw5CfTCz",
        "colab_type": "code",
        "colab": {
          "base_uri": "https://localhost:8080/",
          "height": 576
        },
        "outputId": "c3edf63b-49d2-49c4-cbfe-17598addf0e1"
      },
      "cell_type": "code",
      "source": [
        "#Optimal value for KD_tree K-NN:\n",
        "optimal_k_brute = knn(tfidf_sent_vectors_train, y_train , 'brute')\n",
        "\n",
        "knn_optimal(tfidf_sent_vectors_train , y_train ,tfidf_sent_vectors_test ,optimal_k_brute)"
      ],
      "execution_count": 126,
      "outputs": [
        {
          "output_type": "stream",
          "text": [
            "\n",
            " Optimal value among the all values of K = 47\n"
          ],
          "name": "stdout"
        },
        {
          "output_type": "display_data",
          "data": {
            "image/png": "[encoded data removed]",
            "text/plain": [
              "<matplotlib.figure.Figure at 0x7f6c41d05c18>"
            ]
          },
          "metadata": {
            "tags": []
          }
        },
        {
          "output_type": "stream",
          "text": [
            "the misclassification error for each k value is :  [0.324 0.289 0.276 0.265 0.264 0.261 0.257 0.258 0.256 0.253 0.254 0.252\n",
            " 0.252 0.25  0.249 0.247 0.248 0.248 0.248 0.248 0.248 0.247 0.246 0.245\n",
            " 0.245]\n",
            "\n",
            "The accuracy of the knn classifier on Test Data for k = 49 is 74.150000%\n"
          ],
          "name": "stdout"
        }
      ]
    },
    {
      "metadata": {
        "id": "hbEuEtKGeJNP",
        "colab_type": "code",
        "colab": {
          "base_uri": "https://localhost:8080/",
          "height": 576
        },
        "outputId": "c74be73d-beda-4904-b2fe-1f944c8a189e"
      },
      "cell_type": "code",
      "source": [
        "#Optimal value for KD_tree K-NN:\n",
        "optimal_k_kd_tree = knn(tfidf_sent_vectors_train, y_train , 'kd_tree')\n",
        "\n",
        "knn_optimal(tfidf_sent_vectors_train , y_train ,tfidf_sent_vectors_test ,optimal_k_kd_tree)"
      ],
      "execution_count": 127,
      "outputs": [
        {
          "output_type": "stream",
          "text": [
            "\n",
            " Optimal value among the all values of K = 47\n"
          ],
          "name": "stdout"
        },
        {
          "output_type": "display_data",
          "data": {
            "image/png": "[encoded data removed]",
            "text/plain": [
              "<matplotlib.figure.Figure at 0x7f6c41cbb0f0>"
            ]
          },
          "metadata": {
            "tags": []
          }
        },
        {
          "output_type": "stream",
          "text": [
            "the misclassification error for each k value is :  [0.324 0.289 0.276 0.265 0.264 0.261 0.257 0.258 0.256 0.253 0.254 0.252\n",
            " 0.252 0.25  0.249 0.247 0.248 0.248 0.248 0.248 0.248 0.247 0.246 0.245\n",
            " 0.245]\n",
            "\n",
            "The accuracy of the knn classifier on Test Data for k = 49 is 74.150000%\n"
          ],
          "name": "stdout"
        }
      ]
    },
    {
      "metadata": {
        "id": "0tJyYgp0jXWt",
        "colab_type": "code",
        "colab": {}
      },
      "cell_type": "code",
      "source": [
        ""
      ],
      "execution_count": 0,
      "outputs": []
    }
  ]
}